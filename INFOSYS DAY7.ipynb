{
 "cells": [
  {
   "cell_type": "markdown",
   "id": "d8e7f1eb-b52a-4abf-974d-773347c861d2",
   "metadata": {},
   "source": [
    "# Explore and Implementation of Multi-Layer Perceptron using Pytorch "
   ]
  },
  {
   "cell_type": "code",
   "execution_count": 1,
   "id": "7973581f-69d6-4bdc-a238-d4fd680bec1e",
   "metadata": {},
   "outputs": [],
   "source": [
    "# We're just getting started by importing the numpy library,\n",
    "# which is like a Swiss Army knife for numerical operations in Python.\n",
    "# We'll be using it a lot for our matrix operations.\n",
    "\n",
    "import numpy as np"
   ]
  },
  {
   "cell_type": "code",
   "execution_count": 3,
   "id": "6a4d90e0-b366-4211-af5b-19786cf990d3",
   "metadata": {},
   "outputs": [
    {
     "data": {
      "text/plain": [
       "(array([[1, 2],\n",
       "        [3, 4],\n",
       "        [5, 6]]),\n",
       " array([[0.15],\n",
       "        [0.25]]))"
      ]
     },
     "execution_count": 3,
     "metadata": {},
     "output_type": "execute_result"
    }
   ],
   "source": [
    "# 3x2 Weight matrix for this layer,\n",
    "# 2 input features, 3 output features (which means 3 perceptrons/units)\n",
    "WeightMatrix = np.array([\n",
    "    [1, 2],\n",
    "    [3, 4],\n",
    "    [5, 6]\n",
    "])\n",
    "\n",
    "# 2x1, 2 are the input features and 1 in the size of the batch\n",
    "Input_1 = np.array([\n",
    "    [0.15],\n",
    "    [0.25]\n",
    "])\n",
    "\n",
    "WeightMatrix, Input_1"
   ]
  },
  {
   "cell_type": "code",
   "execution_count": 5,
   "id": "a54ae90a-333b-4b49-b34f-5f5d12eb05c1",
   "metadata": {},
   "outputs": [
    {
     "data": {
      "text/plain": [
       "array([[0.65],\n",
       "       [1.45],\n",
       "       [2.25]])"
      ]
     },
     "execution_count": 5,
     "metadata": {},
     "output_type": "execute_result"
    }
   ],
   "source": [
    "# Matrix multiplication to perform the weighted sum of the input values\n",
    "# for each neuron in that layer\n",
    "np.matmul(WeightMatrix, Input_1)"
   ]
  },
  {
   "cell_type": "code",
   "execution_count": 7,
   "id": "85495ddc-5e59-4640-8c40-aa066184f8d7",
   "metadata": {},
   "outputs": [
    {
     "data": {
      "text/plain": [
       "array([[0.65, 1.1 , 1.7 ],\n",
       "       [1.45, 2.5 , 3.9 ],\n",
       "       [2.25, 3.9 , 6.1 ]])"
      ]
     },
     "execution_count": 7,
     "metadata": {},
     "output_type": "execute_result"
    }
   ],
   "source": [
    "# 2x3, 2 are the input features and 3 in the size of the batch\n",
    "Input_1 = np.array([\n",
    "    [0.15, 0.3, 0.5],\n",
    "    [0.25, 0.4, 0.6]\n",
    "])\n",
    "np.matmul(WeightMatrix, Input_1)"
   ]
  },
  {
   "cell_type": "code",
   "execution_count": 9,
   "id": "401038cd-4bc7-4943-a0b3-8325b9366e63",
   "metadata": {},
   "outputs": [
    {
     "data": {
      "text/plain": [
       "(3, 2)"
      ]
     },
     "execution_count": 9,
     "metadata": {},
     "output_type": "execute_result"
    }
   ],
   "source": [
    "# 3x2, 3 is batch size, 2 number of features\n",
    "Input_2 = np.array([\n",
    "    [0.15, 0.25],\n",
    "    [0.3, 0.4],\n",
    "    [0.5, 0.6]\n",
    "])\n",
    "\n",
    "Input_2.shape"
   ]
  },
  {
   "cell_type": "code",
   "execution_count": 11,
   "id": "c2d1d761-db7b-435e-a746-800cfc7d8f1d",
   "metadata": {},
   "outputs": [],
   "source": [
    "# This will fail as the row by columns multiplication\n",
    "# requires the second dimention of the first matrix\n",
    "# to be equal to the first dimension of the second.\n",
    "#np.matmul(WeightMatrix, Input_2)"
   ]
  },
  {
   "cell_type": "code",
   "execution_count": 13,
   "id": "479c3715-13f2-472a-adfd-69b196e1c573",
   "metadata": {},
   "outputs": [
    {
     "data": {
      "text/plain": [
       "array([[1, 3, 5],\n",
       "       [2, 4, 6]])"
      ]
     },
     "execution_count": 13,
     "metadata": {},
     "output_type": "execute_result"
    }
   ],
   "source": [
    "WeightMatrix.T"
   ]
  },
  {
   "cell_type": "code",
   "execution_count": 15,
   "id": "7a37d2a0-e047-45d4-9fb1-75c541597b3d",
   "metadata": {},
   "outputs": [
    {
     "data": {
      "text/plain": [
       "array([[0.65, 1.45, 2.25],\n",
       "       [1.1 , 2.5 , 3.9 ],\n",
       "       [1.7 , 3.9 , 6.1 ]])"
      ]
     },
     "execution_count": 15,
     "metadata": {},
     "output_type": "execute_result"
    }
   ],
   "source": [
    "np.matmul(Input_2, WeightMatrix.T)"
   ]
  },
  {
   "cell_type": "code",
   "execution_count": 17,
   "id": "c3e3d292-be0b-43fb-b2a0-fa7aafdaf57a",
   "metadata": {},
   "outputs": [],
   "source": [
    "bias = np.array([1.1, -2.1, -3.1])"
   ]
  },
  {
   "cell_type": "code",
   "execution_count": 19,
   "id": "badca108-fe3c-430f-ab1d-a2463e80bbe1",
   "metadata": {},
   "outputs": [
    {
     "data": {
      "text/plain": [
       "array([[ 1.75, -0.65, -0.85],\n",
       "       [ 2.2 ,  0.4 ,  0.8 ],\n",
       "       [ 2.8 ,  1.8 ,  3.  ]])"
      ]
     },
     "execution_count": 19,
     "metadata": {},
     "output_type": "execute_result"
    }
   ],
   "source": [
    "np.matmul(Input_2, WeightMatrix.T) + bias"
   ]
  },
  {
   "cell_type": "code",
   "execution_count": 21,
   "id": "b2d981b4-3fbf-46f5-81f4-ab94a658dc6c",
   "metadata": {},
   "outputs": [
    {
     "data": {
      "text/plain": [
       "array([[1.75, 0.  , 0.  ],\n",
       "       [2.2 , 0.4 , 0.8 ],\n",
       "       [2.8 , 1.8 , 3.  ]])"
      ]
     },
     "execution_count": 21,
     "metadata": {},
     "output_type": "execute_result"
    }
   ],
   "source": [
    "def relu(x):\n",
    "    return np.maximum(0, x)\n",
    "\n",
    "x = np.matmul(Input_2, WeightMatrix.T) + bias\n",
    "\n",
    "relu(x)"
   ]
  },
  {
   "cell_type": "code",
   "execution_count": 23,
   "id": "f576cd6e-f689-4e69-9f93-095034587d5f",
   "metadata": {},
   "outputs": [],
   "source": [
    "import torch\n",
    "from torch import nn"
   ]
  },
  {
   "cell_type": "code",
   "execution_count": 25,
   "id": "8d8c8835-3fbc-418d-ad8e-b6e11649ed93",
   "metadata": {},
   "outputs": [],
   "source": [
    "layer = nn.Linear(2,3)"
   ]
  },
  {
   "cell_type": "code",
   "execution_count": 27,
   "id": "13bd015e-aabb-41da-a91b-5e5a6e842c06",
   "metadata": {},
   "outputs": [
    {
     "data": {
      "text/plain": [
       "Parameter containing:\n",
       "tensor([-0.3663,  0.0860,  0.3400], requires_grad=True)"
      ]
     },
     "execution_count": 27,
     "metadata": {},
     "output_type": "execute_result"
    }
   ],
   "source": [
    "layer.bias"
   ]
  },
  {
   "cell_type": "code",
   "execution_count": 29,
   "id": "91e63c34-7d15-4237-9387-eca4b0d6fb46",
   "metadata": {},
   "outputs": [
    {
     "data": {
      "text/plain": [
       "Parameter containing:\n",
       "tensor([[1., 2.],\n",
       "        [3., 4.],\n",
       "        [5., 6.]], requires_grad=True)"
      ]
     },
     "execution_count": 29,
     "metadata": {},
     "output_type": "execute_result"
    }
   ],
   "source": [
    "layer.weight.data = torch.tensor([\n",
    "    [1., 2.],\n",
    "    [3., 4.],\n",
    "    [5., 6.]\n",
    "])\n",
    "\n",
    "layer.weight"
   ]
  },
  {
   "cell_type": "code",
   "execution_count": 31,
   "id": "32541be1-3648-40f1-84a7-c6158717396f",
   "metadata": {},
   "outputs": [],
   "source": [
    "layer.bias.data = torch.tensor([1.1, -2.1, -3.1])\n"
   ]
  },
  {
   "cell_type": "code",
   "execution_count": 33,
   "id": "abed0ecc-6114-4abc-901e-a31f82697761",
   "metadata": {},
   "outputs": [
    {
     "data": {
      "text/plain": [
       "tensor([[0.1500, 0.2500],\n",
       "        [0.3000, 0.4000],\n",
       "        [0.5000, 0.6000]])"
      ]
     },
     "execution_count": 33,
     "metadata": {},
     "output_type": "execute_result"
    }
   ],
   "source": [
    "Input = torch.tensor([\n",
    "    [0.15, 0.25],\n",
    "    [0.3, 0.4],\n",
    "    [0.5, 0.6]\n",
    "])\n",
    "\n",
    "Input"
   ]
  },
  {
   "cell_type": "code",
   "execution_count": 35,
   "id": "71a4788f-1467-4b47-8bc1-4aa16500c4e2",
   "metadata": {},
   "outputs": [
    {
     "data": {
      "text/plain": [
       "tensor([[ 1.7500, -0.6500, -0.8500],\n",
       "        [ 2.2000,  0.4000,  0.8000],\n",
       "        [ 2.8000,  1.8000,  3.0000]], grad_fn=<AddmmBackward0>)"
      ]
     },
     "execution_count": 35,
     "metadata": {},
     "output_type": "execute_result"
    }
   ],
   "source": [
    "layer(Input)"
   ]
  },
  {
   "cell_type": "code",
   "execution_count": 37,
   "id": "49574ce1-a7e6-4620-83b6-febbbba61c10",
   "metadata": {},
   "outputs": [
    {
     "data": {
      "text/plain": [
       "tensor([[1.7500, 0.0000, 0.0000],\n",
       "        [2.2000, 0.4000, 0.8000],\n",
       "        [2.8000, 1.8000, 3.0000]], grad_fn=<ReluBackward0>)"
      ]
     },
     "execution_count": 37,
     "metadata": {},
     "output_type": "execute_result"
    }
   ],
   "source": [
    "import torch.nn.functional as F\n",
    "\n",
    "x= layer(Input)\n",
    "F.relu(x)"
   ]
  },
  {
   "cell_type": "code",
   "execution_count": null,
   "id": "219041d7-d321-4c19-8e35-99341bd919e2",
   "metadata": {},
   "outputs": [],
   "source": []
  }
 ],
 "metadata": {
  "kernelspec": {
   "display_name": "Python 3 (ipykernel)",
   "language": "python",
   "name": "python3"
  },
  "language_info": {
   "codemirror_mode": {
    "name": "ipython",
    "version": 3
   },
   "file_extension": ".py",
   "mimetype": "text/x-python",
   "name": "python",
   "nbconvert_exporter": "python",
   "pygments_lexer": "ipython3",
   "version": "3.12.4"
  }
 },
 "nbformat": 4,
 "nbformat_minor": 5
}
