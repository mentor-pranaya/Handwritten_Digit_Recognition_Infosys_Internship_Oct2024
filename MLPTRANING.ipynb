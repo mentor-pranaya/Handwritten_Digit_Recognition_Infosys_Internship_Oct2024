{
  "nbformat": 4,
  "nbformat_minor": 0,
  "metadata": {
    "colab": {
      "provenance": []
    },
    "kernelspec": {
      "name": "python3",
      "display_name": "Python 3"
    },
    "language_info": {
      "name": "python"
    }
  },
  "cells": [
    {
      "cell_type": "code",
      "source": [
        "# Data Loading & Preprocessing\n",
        "# Setting up the environment\n",
        "import torch\n",
        "import torchvision\n",
        "import matplotlib.pyplot as plt\n",
        "from torchvision import datasets, transforms\n",
        "from torch.utils.data import DataLoader\n",
        "import numpy as np"
      ],
      "metadata": {
        "id": "DjNsT791wsOc"
      },
      "execution_count": 3,
      "outputs": []
    },
    {
      "cell_type": "code",
      "source": [
        "# Transform: Convert images to tensors and normalize\n",
        "data_transforms = transforms.Compose([\n",
        "    transforms.ToTensor(),\n",
        "    transforms.Normalize((0.5,), (0.5,))\n",
        "])\n"
      ],
      "metadata": {
        "id": "h06PRuw8wzg5"
      },
      "execution_count": 4,
      "outputs": []
    },
    {
      "cell_type": "code",
      "source": [
        "# Loading MNIST dataset (training and testing data)\n",
        "train_data = datasets.MNIST(root='./dataset', download=True, train=True, transform=data_transforms)\n",
        "test_data = datasets.MNIST(root='./dataset', download=True, train=False, transform=data_transforms)\n"
      ],
      "metadata": {
        "colab": {
          "base_uri": "https://localhost:8080/"
        },
        "id": "tCAXbRAaxA_n",
        "outputId": "482a724f-ddeb-4780-e799-87799505dd92"
      },
      "execution_count": 5,
      "outputs": [
        {
          "output_type": "stream",
          "name": "stdout",
          "text": [
            "Downloading http://yann.lecun.com/exdb/mnist/train-images-idx3-ubyte.gz\n",
            "Failed to download (trying next):\n",
            "<urlopen error [SSL: CERTIFICATE_VERIFY_FAILED] certificate verify failed: certificate has expired (_ssl.c:1007)>\n",
            "\n",
            "Downloading https://ossci-datasets.s3.amazonaws.com/mnist/train-images-idx3-ubyte.gz\n",
            "Downloading https://ossci-datasets.s3.amazonaws.com/mnist/train-images-idx3-ubyte.gz to ./dataset/MNIST/raw/train-images-idx3-ubyte.gz\n"
          ]
        },
        {
          "output_type": "stream",
          "name": "stderr",
          "text": [
            "100%|██████████| 9912422/9912422 [00:00<00:00, 37670111.73it/s]\n"
          ]
        },
        {
          "output_type": "stream",
          "name": "stdout",
          "text": [
            "Extracting ./dataset/MNIST/raw/train-images-idx3-ubyte.gz to ./dataset/MNIST/raw\n",
            "\n",
            "Downloading http://yann.lecun.com/exdb/mnist/train-labels-idx1-ubyte.gz\n",
            "Failed to download (trying next):\n",
            "<urlopen error [SSL: CERTIFICATE_VERIFY_FAILED] certificate verify failed: certificate has expired (_ssl.c:1007)>\n",
            "\n",
            "Downloading https://ossci-datasets.s3.amazonaws.com/mnist/train-labels-idx1-ubyte.gz\n",
            "Downloading https://ossci-datasets.s3.amazonaws.com/mnist/train-labels-idx1-ubyte.gz to ./dataset/MNIST/raw/train-labels-idx1-ubyte.gz\n"
          ]
        },
        {
          "output_type": "stream",
          "name": "stderr",
          "text": [
            "100%|██████████| 28881/28881 [00:00<00:00, 1079919.89it/s]"
          ]
        },
        {
          "output_type": "stream",
          "name": "stdout",
          "text": [
            "Extracting ./dataset/MNIST/raw/train-labels-idx1-ubyte.gz to ./dataset/MNIST/raw\n",
            "\n",
            "Downloading http://yann.lecun.com/exdb/mnist/t10k-images-idx3-ubyte.gz\n"
          ]
        },
        {
          "output_type": "stream",
          "name": "stderr",
          "text": [
            "\n"
          ]
        },
        {
          "output_type": "stream",
          "name": "stdout",
          "text": [
            "Failed to download (trying next):\n",
            "<urlopen error [SSL: CERTIFICATE_VERIFY_FAILED] certificate verify failed: certificate has expired (_ssl.c:1007)>\n",
            "\n",
            "Downloading https://ossci-datasets.s3.amazonaws.com/mnist/t10k-images-idx3-ubyte.gz\n",
            "Downloading https://ossci-datasets.s3.amazonaws.com/mnist/t10k-images-idx3-ubyte.gz to ./dataset/MNIST/raw/t10k-images-idx3-ubyte.gz\n"
          ]
        },
        {
          "output_type": "stream",
          "name": "stderr",
          "text": [
            "100%|██████████| 1648877/1648877 [00:00<00:00, 2342975.30it/s]\n"
          ]
        },
        {
          "output_type": "stream",
          "name": "stdout",
          "text": [
            "Extracting ./dataset/MNIST/raw/t10k-images-idx3-ubyte.gz to ./dataset/MNIST/raw\n",
            "\n",
            "Downloading http://yann.lecun.com/exdb/mnist/t10k-labels-idx1-ubyte.gz\n",
            "Failed to download (trying next):\n",
            "<urlopen error [SSL: CERTIFICATE_VERIFY_FAILED] certificate verify failed: certificate has expired (_ssl.c:1007)>\n",
            "\n",
            "Downloading https://ossci-datasets.s3.amazonaws.com/mnist/t10k-labels-idx1-ubyte.gz\n",
            "Downloading https://ossci-datasets.s3.amazonaws.com/mnist/t10k-labels-idx1-ubyte.gz to ./dataset/MNIST/raw/t10k-labels-idx1-ubyte.gz\n"
          ]
        },
        {
          "output_type": "stream",
          "name": "stderr",
          "text": [
            "100%|██████████| 4542/4542 [00:00<00:00, 2528271.90it/s]"
          ]
        },
        {
          "output_type": "stream",
          "name": "stdout",
          "text": [
            "Extracting ./dataset/MNIST/raw/t10k-labels-idx1-ubyte.gz to ./dataset/MNIST/raw\n",
            "\n"
          ]
        },
        {
          "output_type": "stream",
          "name": "stderr",
          "text": [
            "\n"
          ]
        }
      ]
    },
    {
      "cell_type": "code",
      "source": [
        "\n",
        "# DataLoader for training and testing data\n",
        "train_loader = DataLoader(dataset=train_data, batch_size=64, shuffle=True)\n",
        "test_loader = DataLoader(dataset=test_data, batch_size=64, shuffle=False)"
      ],
      "metadata": {
        "id": "b9zTQlbbxCbz"
      },
      "execution_count": 6,
      "outputs": []
    },
    {
      "cell_type": "code",
      "source": [
        "# Visualization of the original dataset\n",
        "def show_images(images, labels, title='Images Preview'):\n",
        "    fig, axs = plt.subplots(2, 5, figsize=(10, 4))\n",
        "    for i in range(10):\n",
        "        ax = axs[i // 5, i % 5]\n",
        "        ax.imshow(images[i].squeeze().numpy(), cmap='gray')\n",
        "        ax.set_title(f'{title}: {labels[i].item()}')\n",
        "        ax.axis('off')\n",
        "    plt.tight_layout()\n",
        "    plt.show()"
      ],
      "metadata": {
        "id": "45E8AXYSxIRg"
      },
      "execution_count": 7,
      "outputs": []
    },
    {
      "cell_type": "code",
      "source": [
        "# Load a batch of images and labels for visualization\n",
        "train_images, train_labels = next(iter(train_loader))\n",
        "show_images(train_images, train_labels)"
      ],
      "metadata": {
        "colab": {
          "base_uri": "https://localhost:8080/",
          "height": 410
        },
        "id": "csNVO6POxNJf",
        "outputId": "6694f0bd-b61a-4245-95bf-1b7ff7cb41df"
      },
      "execution_count": 8,
      "outputs": [
        {
          "output_type": "display_data",
          "data": {
            "text/plain": [
              "<Figure size 1000x400 with 10 Axes>"
            ],
            "image/png": "[encoded data removed]"
          },
          "metadata": {}
        }
      ]
    },
    {
      "cell_type": "code",
      "source": [
        "# Data Augmentation for improved learning\n",
        "augmentation_transforms = transforms.Compose([\n",
        "    transforms.RandomRotation(degrees=10),\n",
        "    transforms.RandomVerticalFlip(),\n",
        "    transforms.GaussianBlur(kernel_size=(5, 5), sigma=(0.1, 2.0)),\n",
        "    transforms.ToTensor(),\n",
        "    transforms.Normalize((0.5,), (0.5,))\n",
        "])"
      ],
      "metadata": {
        "id": "yak7M4FUxSAu"
      },
      "execution_count": 9,
      "outputs": []
    },
    {
      "cell_type": "code",
      "source": [
        "# Augmented MNIST dataset\n",
        "augmented_train_data = datasets.MNIST(root='./dataset', download=True, train=True, transform=augmentation_transforms)\n",
        "augmented_train_loader = DataLoader(dataset=augmented_train_data, batch_size=64, shuffle=True)"
      ],
      "metadata": {
        "id": "ckwHYBxnxhKW"
      },
      "execution_count": 10,
      "outputs": []
    },
    {
      "cell_type": "code",
      "source": [
        "# Visualization of augmented dataset\n",
        "def show_augmented_images(images, labels, title='Augmented Images'):\n",
        "    fig, axs = plt.subplots(2, 5, figsize=(10, 4))\n",
        "    for i in range(10):\n",
        "        ax = axs[i // 5, i % 5]\n",
        "        ax.imshow(images[i].squeeze().numpy(), cmap='gray')\n",
        "        ax.set_title(f'{title}: {labels[i].item()}')\n",
        "        ax.axis('off')\n",
        "    plt.tight_layout()\n",
        "    plt.show()"
      ],
      "metadata": {
        "id": "UKu-__l3xi2_"
      },
      "execution_count": 11,
      "outputs": []
    },
    {
      "cell_type": "code",
      "source": [
        "\n",
        "# Load a batch of augmented images for visualization\n",
        "augmented_images, labels = next(iter(augmented_train_loader))\n",
        "show_augmented_images(augmented_images, labels)"
      ],
      "metadata": {
        "colab": {
          "base_uri": "https://localhost:8080/",
          "height": 410
        },
        "id": "BXx_oFPRxpFi",
        "outputId": "088f726a-e8c6-4b10-8f33-f31e30992448"
      },
      "execution_count": 12,
      "outputs": [
        {
          "output_type": "display_data",
          "data": {
            "text/plain": [
              "<Figure size 1000x400 with 10 Axes>"
            ],
            "image/png": "[encoded data removed]"
          },
          "metadata": {}
        }
      ]
    },
    {
      "cell_type": "code",
      "source": [
        "#Training a Basic Multi-Layer Perceptron (MLP) Model"
      ],
      "metadata": {
        "id": "YRnGLaaNxubt"
      },
      "execution_count": null,
      "outputs": []
    },
    {
      "cell_type": "code",
      "source": [
        "import torch.nn as nn\n",
        "import torch.optim as optim"
      ],
      "metadata": {
        "id": "XJZChtM7x4KK"
      },
      "execution_count": 13,
      "outputs": []
    },
    {
      "cell_type": "code",
      "source": [
        "\n",
        "# Defining a simple MLP architecture\n",
        "class BasicMLP(nn.Module):\n",
        "    def __init__(self, input_dim=28*28, hidden_units=512, output_dim=10):\n",
        "        super(BasicMLP, self).__init__()\n",
        "        self.layer1 = nn.Linear(input_dim, hidden_units)\n",
        "        self.activation = nn.ReLU()\n",
        "        self.layer2 = nn.Linear(hidden_units, output_dim)\n",
        "\n",
        "    # Forward pass: Flow through the layers\n",
        "    def forward(self, x):\n",
        "        x = x.view(x.size(0), -1)  # Flatten the input image\n",
        "        x = self.layer1(x)\n",
        "        x = self.activation(x)\n",
        "        x = self.layer2(x)\n",
        "        return x\n"
      ],
      "metadata": {
        "id": "GaOvRUhOx9Fv"
      },
      "execution_count": 17,
      "outputs": []
    },
    {
      "cell_type": "code",
      "source": [
        "# Initialize model, loss function, and optimizer\n",
        "mlp_model = BasicMLP()\n",
        "loss_function = nn.CrossEntropyLoss()\n",
        "optimizer = optim.Adam(mlp_model.parameters(), lr=0.0009)  # Adam optimizer\n"
      ],
      "metadata": {
        "id": "leQzqQbYyCg6"
      },
      "execution_count": 18,
      "outputs": []
    },
    {
      "cell_type": "code",
      "source": [
        "# Training Loop\n",
        "num_epochs = 30\n",
        "for epoch in range(num_epochs):\n",
        "    mlp_model.train()\n",
        "    epoch_loss = 0\n",
        "    for batch_images, batch_labels in train_loader:\n",
        "        optimizer.zero_grad()  # Clear gradients\n",
        "        predictions = mlp_model(batch_images)  # Forward pass\n",
        "        loss = loss_function(predictions, batch_labels)  # Calculate loss\n",
        "        loss.backward()  # Backpropagation\n",
        "        optimizer.step()  # Update weights\n",
        "        epoch_loss += loss.item()\n",
        "\n",
        "    avg_loss = epoch_loss / len(train_loader)  # Average loss for the epoch\n",
        "    print(f'Epoch [{epoch + 1}/{num_epochs}], Loss: {avg_loss:.2f}')"
      ],
      "metadata": {
        "colab": {
          "base_uri": "https://localhost:8080/"
        },
        "id": "P9bV9oIdyh8J",
        "outputId": "90d55985-e958-4d33-d377-7d7e3c18d719"
      },
      "execution_count": 19,
      "outputs": [
        {
          "output_type": "stream",
          "name": "stdout",
          "text": [
            "Epoch [1/30], Loss: 0.32\n",
            "Epoch [2/30], Loss: 0.14\n",
            "Epoch [3/30], Loss: 0.10\n",
            "Epoch [4/30], Loss: 0.09\n",
            "Epoch [5/30], Loss: 0.07\n",
            "Epoch [6/30], Loss: 0.06\n",
            "Epoch [7/30], Loss: 0.06\n",
            "Epoch [8/30], Loss: 0.05\n",
            "Epoch [9/30], Loss: 0.05\n",
            "Epoch [10/30], Loss: 0.04\n",
            "Epoch [11/30], Loss: 0.04\n",
            "Epoch [12/30], Loss: 0.03\n",
            "Epoch [13/30], Loss: 0.03\n",
            "Epoch [14/30], Loss: 0.03\n",
            "Epoch [15/30], Loss: 0.03\n",
            "Epoch [16/30], Loss: 0.02\n",
            "Epoch [17/30], Loss: 0.02\n",
            "Epoch [18/30], Loss: 0.03\n",
            "Epoch [19/30], Loss: 0.02\n",
            "Epoch [20/30], Loss: 0.02\n",
            "Epoch [21/30], Loss: 0.02\n",
            "Epoch [22/30], Loss: 0.02\n",
            "Epoch [23/30], Loss: 0.02\n",
            "Epoch [24/30], Loss: 0.01\n",
            "Epoch [25/30], Loss: 0.02\n",
            "Epoch [26/30], Loss: 0.02\n",
            "Epoch [27/30], Loss: 0.02\n",
            "Epoch [28/30], Loss: 0.01\n",
            "Epoch [29/30], Loss: 0.02\n",
            "Epoch [30/30], Loss: 0.01\n"
          ]
        }
      ]
    }
  ]
}