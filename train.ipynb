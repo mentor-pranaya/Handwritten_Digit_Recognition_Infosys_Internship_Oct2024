{
 "cells": [
  {
   "cell_type": "code",
   "execution_count": 1,
   "metadata": {},
   "outputs": [
    {
     "name": "stdout",
     "output_type": "stream",
     "text": [
      "2.4.1+cpu\n",
      "0.19.1+cpu\n"
     ]
    }
   ],
   "source": [
    "import torch\n",
    "import torchvision\n",
    "import matplotlib.pyplot as plt\n",
    "from torch.utils.data import DataLoader\n",
    "import torchvision.transforms as transforms\n",
    "import torch.nn as nn\n",
    "import torch.optim as optim\n",
    "from fastai.vision.all import PILImage\n",
    "\n",
    "print(torch.__version__)\n",
    "print(torchvision.__version__)"
   ]
  },
  {
   "cell_type": "markdown",
   "metadata": {},
   "source": [
    "#### Loading and Display MNIST Data"
   ]
  },
  {
   "cell_type": "code",
   "execution_count": 2,
   "metadata": {},
   "outputs": [
    {
     "name": "stdout",
     "output_type": "stream",
     "text": [
      "Dataset size: 60000\n",
      "First data point (image, label): (<PIL.Image.Image image mode=L size=28x28>, 5)\n"
     ]
    },
    {
     "data": {
      "image/jpeg": "[encoded data removed]",
      "image/png": "[encoded data removed]",
      "text/plain": [
       "PILImage mode=L size=28x28"
      ]
     },
     "execution_count": 2,
     "metadata": {},
     "output_type": "execute_result"
    }
   ],
   "source": [
    "dataset = torchvision.datasets.MNIST(root='./data', download=True)\n",
    "\n",
    "print(f\"Dataset size: {len(dataset)}\")\n",
    "print(f\"First data point (image, label): {dataset[0]}\")\n",
    "PILImage.create(dataset[0][0])\n"
   ]
  },
  {
   "cell_type": "markdown",
   "metadata": {},
   "source": [
    "#### Data Pre-Processing"
   ]
  },
  {
   "cell_type": "code",
   "execution_count": 3,
   "metadata": {},
   "outputs": [],
   "source": [
    "transform = transforms.Compose([    \n",
    "    transforms.ToTensor(),\n",
    "    transforms.RandomAffine(60, translate=(0.1, 0.1)),\n",
    "    transforms.Normalize((0.5,), (0.5,)),\n",
    "    transforms.RandomResizedCrop(28, scale=(0.8, 1.0)),\n",
    "    transforms.RandomErasing(p=0.5, scale=(0.02, 0.1)),\n",
    "    transforms.GaussianBlur(kernel_size=5)\n",
    "    # transforms.RandomHorizontalFlip(),\n",
    "    # transforms.RandomVerticalFlip()\n",
    "])\n",
    "\n",
    "train_dataset = torchvision.datasets.MNIST(root='./data', train=True, transform=transform, download=True)\n",
    "train_dataloader = DataLoader(train_dataset, batch_size=128, shuffle=False)\n",
    "\n",
    "test_dataset = torchvision.datasets.MNIST(root='./data', train=False, transform=transform, download=True)\n",
    "test_dataloader = DataLoader(test_dataset, batch_size=128, shuffle=True)"
   ]
  },
  {
   "cell_type": "code",
   "execution_count": 5,
   "metadata": {},
   "outputs": [
    {
     "data": {
      "image/png": "[encoded data removed]",
      "text/plain": [
       "<Figure size 2800x2800 with 6 Axes>"
      ]
     },
     "metadata": {},
     "output_type": "display_data"
    }
   ],
   "source": [
    "def show_images(images, labels):\n",
    "    fig, axes = plt.subplots(1, 6, figsize=(28, 28))\n",
    "    \n",
    "    for i in range(6):\n",
    "        axes[i].imshow(images[i].squeeze(), cmap='gray')\n",
    "        axes[i].set_title(f'Label: {labels[i]}')\n",
    "    plt.show()\n",
    "\n",
    "data_iter = iter(train_dataloader)\n",
    "images, labels = next(data_iter)\n",
    "\n",
    "show_images(images, labels)"
   ]
  },
  {
   "cell_type": "markdown",
   "metadata": {},
   "source": [
    "#### Train the Model"
   ]
  },
  {
   "cell_type": "code",
   "execution_count": 24,
   "metadata": {},
   "outputs": [],
   "source": [
    "class MLP(nn.Module):\n",
    "    def __init__(self):\n",
    "        super(MLP, self).__init__()\n",
    "        self.flatten = nn.Flatten()\n",
    "        self.fc1 = nn.Linear(28*28, 128)\n",
    "        self.bn1 = nn.BatchNorm1d(128) \n",
    "        self.fc2 = nn.Linear(128, 64)\n",
    "        self.bn2 = nn.BatchNorm1d(64) \n",
    "        self.fc3 = nn.Linear(64, 10)\n",
    "        self.relu = nn.ReLU()\n",
    "        self.softmax = nn.LogSoftmax(dim=1)\n",
    "\n",
    "    def forward(self, x):\n",
    "        x = self.flatten(x)\n",
    "        x = self.relu(self.bn1(self.fc1(x)))  \n",
    "        x = self.relu(self.bn2(self.fc2(x)))  \n",
    "        x = self.softmax(self.fc3(x))\n",
    "        return x"
   ]
  },
  {
   "cell_type": "code",
   "execution_count": 40,
   "metadata": {},
   "outputs": [],
   "source": [
    "model = MLP()\n",
    "criterion = nn.CrossEntropyLoss()  \n",
    "optimizer = optim.Adam(model.parameters(), lr=0.0028)"
   ]
  },
  {
   "cell_type": "code",
   "execution_count": 1,
   "metadata": {},
   "outputs": [
    {
     "name": "stdout",
     "output_type": "stream",
     "text": [
      "Epoch [1/30], Loss: 1.0548\n",
      "Epoch [2/30], Loss: 0.7382\n",
      "Epoch [3/30], Loss: 0.6504\n",
      "Epoch [4/30], Loss: 0.5940\n",
      "Epoch [5/30], Loss: 0.5571\n",
      "Epoch [6/30], Loss: 0.5281\n",
      "Epoch [7/30], Loss: 0.5103\n",
      "Epoch [8/30], Loss: 0.4925\n",
      "Epoch [9/30], Loss: 0.4773\n",
      "Epoch [10/30], Loss: 0.4674\n",
      "Epoch [11/30], Loss: 0.4565\n",
      "Epoch [12/30], Loss: 0.4420\n",
      "Epoch [13/30], Loss: 0.4441\n",
      "Epoch [14/30], Loss: 0.4362\n",
      "Epoch [15/30], Loss: 0.4257\n",
      "Epoch [16/30], Loss: 0.4201\n",
      "Epoch [17/30], Loss: 0.4122\n",
      "Epoch [18/30], Loss: 0.4070\n",
      "Epoch [19/30], Loss: 0.4060\n",
      "Epoch [20/30], Loss: 0.3940\n",
      "Epoch [21/30], Loss: 0.3930\n",
      "Epoch [22/30], Loss: 0.3945\n",
      "Epoch [23/30], Loss: 0.3913\n",
      "Epoch [24/30], Loss: 0.3846\n",
      "Epoch [25/30], Loss: 0.3874\n",
      "Epoch [26/30], Loss: 0.3763\n",
      "Epoch [27/30], Loss: 0.3832\n",
      "Epoch [28/30], Loss: 0.3732\n",
      "Epoch [29/30], Loss: 0.3744\n",
      "Epoch [30/30], Loss: 0.3669\n"
     ]
    }
   ],
   "source": [
    "num_epochs = 30\n",
    "for epoch in range(num_epochs):\n",
    "    model.train()\n",
    "    total_train_loss = 0.0\n",
    "    for images, labels in train_dataloader:\n",
    "        outputs = model(images)\n",
    "        loss = criterion(outputs, labels)\n",
    "        \n",
    "        optimizer.zero_grad()\n",
    "        loss.backward()\n",
    "        optimizer.step()\n",
    "\n",
    "        total_train_loss += loss.item()\n",
    "    \n",
    "    avg_train_loss = total_train_loss / len(train_dataloader)\n",
    "    print(f\"Epoch [{epoch+1}/{num_epochs}], Loss: {avg_train_loss:.4f}\")"
   ]
  },
  {
   "cell_type": "code",
   "execution_count": 2,
   "metadata": {},
   "outputs": [
    {
     "name": "stdout",
     "output_type": "stream",
     "text": [
      "Testing Loss: 0.3348\n",
      "Error Rate: 10.78%\n"
     ]
    }
   ],
   "source": [
    "model.eval()\n",
    "total_test_loss = 0.0\n",
    "correct_predictions = 0\n",
    "total_samples = 0\n",
    "\n",
    "with torch.no_grad():\n",
    "    for test_images, test_labels in test_dataloader:\n",
    "        test_outputs = model(test_images)\n",
    "        test_loss = criterion(test_outputs, test_labels)\n",
    "        total_test_loss += test_loss.item()\n",
    "        \n",
    "        _, predicted = torch.max(test_outputs, 1)\n",
    "        correct_predictions += (predicted == test_labels).sum().item()\n",
    "        total_samples += test_labels.size(0)\n",
    "\n",
    "avg_test_loss = total_test_loss / len(test_dataloader)\n",
    "error_rate = 1 - (correct_predictions / total_samples)\n",
    "\n",
    "print(f\"Testing Loss: {avg_test_loss:.4f}\")\n",
    "print(f\"Error Rate: {error_rate * 100:.2f}%\")"
   ]
  },
  {
   "cell_type": "code",
   "execution_count": 37,
   "metadata": {},
   "outputs": [
    {
     "name": "stdout",
     "output_type": "stream",
     "text": [
      "Predicted: tensor([3, 3, 5, 9, 2, 0, 2, 2, 9, 7, 1, 6])\n",
      "Actual:    tensor([3, 3, 5, 9, 2, 0, 9, 2, 7, 7, 1, 6])\n"
     ]
    }
   ],
   "source": [
    "test_images, test_labels = next(iter(test_dataloader))\n",
    "with torch.no_grad():\n",
    "    test_outputs = model(test_images)\n",
    "    _, predicted = torch.max(test_outputs, 1)\n",
    "\n",
    "print(f'Predicted: {predicted[:12]}')\n",
    "print(f'Actual:    {test_labels[:12]}')"
   ]
  },
  {
   "cell_type": "markdown",
   "metadata": {},
   "source": [
    "#### Saving the Model"
   ]
  },
  {
   "cell_type": "code",
   "execution_count": 38,
   "metadata": {},
   "outputs": [],
   "source": [
    "torch.save(model.state_dict(), 'model.pth')"
   ]
  },
  {
   "cell_type": "markdown",
   "metadata": {},
   "source": [
    "#### Loading the Saved Model"
   ]
  },
  {
   "cell_type": "code",
   "execution_count": 14,
   "metadata": {},
   "outputs": [
    {
     "name": "stderr",
     "output_type": "stream",
     "text": [
      "C:\\Users\\KIIT\\AppData\\Local\\Temp\\ipykernel_30080\\1104402647.py:20: FutureWarning: You are using `torch.load` with `weights_only=False` (the current default value), which uses the default pickle module implicitly. It is possible to construct malicious pickle data which will execute arbitrary code during unpickling (See https://github.com/pytorch/pytorch/blob/main/SECURITY.md#untrusted-models for more details). In a future release, the default value for `weights_only` will be flipped to `True`. This limits the functions that could be executed during unpickling. Arbitrary objects will no longer be allowed to be loaded via this mode unless they are explicitly allowlisted by the user via `torch.serialization.add_safe_globals`. We recommend you start setting `weights_only=True` for any use case where you don't have full control of the loaded file. Please open an issue on GitHub for any issues related to this experimental feature.\n",
      "  model.load_state_dict(torch.load('model.pth'))\n"
     ]
    },
    {
     "data": {
      "text/plain": [
       "<All keys matched successfully>"
      ]
     },
     "execution_count": 14,
     "metadata": {},
     "output_type": "execute_result"
    }
   ],
   "source": [
    "class MLP(nn.Module):\n",
    "    def __init__(self):\n",
    "        super(MLP, self).__init__()\n",
    "        self.flatten = nn.Flatten() \n",
    "        self.fc1 = nn.Linear(28*28, 128)\n",
    "        self.fc2 = nn.Linear(128, 64)    \n",
    "        self.fc3 = nn.Linear(64, 10)  \n",
    "        self.relu = nn.ReLU()\n",
    "        self.softmax = nn.LogSoftmax(dim=1)\n",
    "    \n",
    "    def forward(self, x):\n",
    "        x = self.flatten(x)\n",
    "        x = self.relu(self.fc1(x))\n",
    "        x = self.relu(self.fc2(x))\n",
    "        x = self.softmax(self.fc3(x))\n",
    "        return x\n",
    "    \n",
    "model = MLP()\n",
    "\n",
    "model.load_state_dict(torch.load('model.pth'))"
   ]
  }
 ],
 "metadata": {
  "kernelspec": {
   "display_name": "Python 3",
   "language": "python",
   "name": "python3"
  },
  "language_info": {
   "codemirror_mode": {
    "name": "ipython",
    "version": 3
   },
   "file_extension": ".py",
   "mimetype": "text/x-python",
   "name": "python",
   "nbconvert_exporter": "python",
   "pygments_lexer": "ipython3",
   "version": "3.12.7"
  }
 },
 "nbformat": 4,
 "nbformat_minor": 2
}
