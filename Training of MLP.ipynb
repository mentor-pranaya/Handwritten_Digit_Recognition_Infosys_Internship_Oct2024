{
 "cells": [
  {
   "cell_type": "code",
   "execution_count": 1,
   "id": "11114e06-e322-46a2-8e17-bcca3588d74d",
   "metadata": {},
   "outputs": [],
   "source": [
    "# Data Loading & Pre - Processing (Week 1)"
   ]
  },
  {
   "cell_type": "code",
   "execution_count": 2,
   "id": "83100167-a17d-472f-8a99-e9aae71a4170",
   "metadata": {},
   "outputs": [],
   "source": [
    "#setting up environment\n",
    "\n",
    "import torch\n",
    "import torchvision\n",
    "import matplotlib.pyplot as plt\n",
    "from torchvision import transforms\n",
    "from torch.utils.data import DataLoader\n",
    "import torchvision.datasets as dt\n",
    "import numpy as np"
   ]
  },
  {
   "cell_type": "code",
   "execution_count": 3,
   "id": "16a96750-92e6-4cb4-8022-98f73689f8ce",
   "metadata": {},
   "outputs": [
    {
     "data": {
      "text/plain": [
       "torchvision.datasets.mnist.MNIST"
      ]
     },
     "execution_count": 3,
     "metadata": {},
     "output_type": "execute_result"
    }
   ],
   "source": [
    "torchvision.datasets.MNIST"
   ]
  },
  {
   "cell_type": "code",
   "execution_count": 4,
   "id": "0a4923cd-1734-4ac3-bd64-4b323ef632ad",
   "metadata": {},
   "outputs": [
    {
     "data": {
      "text/plain": [
       "torch.utils.data.dataloader.DataLoader"
      ]
     },
     "execution_count": 4,
     "metadata": {},
     "output_type": "execute_result"
    }
   ],
   "source": [
    "torch.utils.data.DataLoader"
   ]
  },
  {
   "cell_type": "code",
   "execution_count": 5,
   "id": "303e4ffe-3e94-4dfa-aa26-065573f3c14f",
   "metadata": {},
   "outputs": [],
   "source": [
    "#converting the images in the dataset to a tensor and normalizing it\n",
    "\n",
    "transform = transforms.Compose([\n",
    "    transforms.ToTensor(),\n",
    "    transforms.Normalize((0.5,), (0.5,)),\n",
    "])"
   ]
  },
  {
   "cell_type": "code",
   "execution_count": 6,
   "id": "553ce1d5-491b-4069-aca6-8fb269ec02f4",
   "metadata": {},
   "outputs": [],
   "source": [
    "mnist_dataset_train = dt.MNIST(root= './data', download = True, train = True, transform = transform)"
   ]
  },
  {
   "cell_type": "code",
   "execution_count": 7,
   "id": "ebf02458-291d-4ce5-8e47-cc59a4fea325",
   "metadata": {},
   "outputs": [],
   "source": [
    "mnist_dataset_test = dt.MNIST(root='./data', download = True, train = False, transform = transform)"
   ]
  },
  {
   "cell_type": "code",
   "execution_count": 8,
   "id": "9e06b651-9716-47c4-8f21-08fee6113f78",
   "metadata": {},
   "outputs": [],
   "source": [
    "train_loader = DataLoader(mnist_dataset_train, batch_size= 64, shuffle = True)\n",
    "test_loader = DataLoader(mnist_dataset_test, batch_size= 64, shuffle = False)"
   ]
  },
  {
   "cell_type": "code",
   "execution_count": 9,
   "id": "7bdd0d03-f79c-444b-97f5-78fc813f7f41",
   "metadata": {},
   "outputs": [
    {
     "data": {
      "text/plain": [
       "<Figure size 640x480 with 0 Axes>"
      ]
     },
     "metadata": {},
     "output_type": "display_data"
    }
   ],
   "source": [
    "# visualization of the original images data set\n",
    "\n",
    "def vis_dt(images, labels, title = 'Original Images'):\n",
    "    fig, axes = plt.subplots(2, 5, figsize=(10, 4))\n",
    "    for i in range(10):\n",
    "        ax = axes[i//5, i% 5]\n",
    "        ax.imshow(images[i].squeeze().numpy(), cmap='gray', aspect='equal')\n",
    "        ax.set_title(f'Original: {labels[i].item()}', fontsize=12)\n",
    "        ax.axis('off')\n",
    "plt.tight_layout()\n",
    "plt.show()"
   ]
  },
  {
   "cell_type": "code",
   "execution_count": 10,
   "id": "28c0c5f4-597b-456f-aef7-d651dc04cf9f",
   "metadata": {},
   "outputs": [],
   "source": [
    "train_images, train_labels = next(iter(train_loader))"
   ]
  },
  {
   "cell_type": "code",
   "execution_count": 11,
   "id": "9a2337e2-2203-48ef-a74e-d64729394856",
   "metadata": {},
   "outputs": [
    {
     "data": {
      "image/png": "[encoded data removed]",
      "text/plain": [
       "<Figure size 1000x400 with 10 Axes>"
      ]
     },
     "metadata": {},
     "output_type": "display_data"
    }
   ],
   "source": [
    "vis_dt(train_images, train_labels)"
   ]
  },
  {
   "cell_type": "code",
   "execution_count": 12,
   "id": "72342f8f-9505-465f-b41b-7303b03c4436",
   "metadata": {},
   "outputs": [],
   "source": [
    "#Pre-Processing Data for unbiased learning\n",
    "\n",
    "transform_augment= transforms.Compose([\n",
    "    transforms.RandomRotation(degrees= 10),\n",
    "    transforms.RandomVerticalFlip(),\n",
    "    transforms.GaussianBlur(kernel_size=(5, 5), sigma=(0.1, 2.0)),\n",
    "    transforms.ToTensor(),\n",
    "    transforms.Normalize((0.5,), (0.5,)),\n",
    "])"
   ]
  },
  {
   "cell_type": "code",
   "execution_count": 13,
   "id": "4cc7dc27-d5d2-4dac-8b3f-e1b7ddf6cbd6",
   "metadata": {},
   "outputs": [],
   "source": [
    "mnist_augment_dataset_train = dt.MNIST(root='./data', download = True, train = True, transform = transform_augment)"
   ]
  },
  {
   "cell_type": "code",
   "execution_count": 14,
   "id": "2ef95fb0-7b0a-47bf-be11-75a51ce8a5e1",
   "metadata": {},
   "outputs": [],
   "source": [
    "mnist_augment_loader = DataLoader(mnist_augment_dataset_train, batch_size= 64, shuffle = True)"
   ]
  },
  {
   "cell_type": "code",
   "execution_count": 15,
   "id": "57cc207d-f2a8-4610-8b37-68f69fe3447d",
   "metadata": {},
   "outputs": [
    {
     "data": {
      "text/plain": [
       "<Figure size 640x480 with 0 Axes>"
      ]
     },
     "metadata": {},
     "output_type": "display_data"
    }
   ],
   "source": [
    "# visualization of the augmented images data set\n",
    "# The labels on augmented images are different from original due to shuffle in data loader; removal of which generates same dataset\n",
    "\n",
    "def vis_dt(augmented_images, labels, title = 'Augmented Images'):\n",
    "    fig, axes = plt.subplots(2, 5, figsize=(10, 4))\n",
    "    for i in range(10):\n",
    "        ax = axes[i//5, i% 5]\n",
    "        ax.imshow(augmented_images[i].squeeze().numpy(), cmap='gray', aspect='equal')\n",
    "        ax.set_title(f'Augmented: {labels[i].item()}', fontsize=12)\n",
    "        ax.axis('off')\n",
    "plt.tight_layout()\n",
    "plt.show()"
   ]
  },
  {
   "cell_type": "code",
   "execution_count": 16,
   "id": "d3db1820-4b53-4c8d-872f-f35e195084aa",
   "metadata": {},
   "outputs": [
    {
     "data": {
      "image/png": "[encoded data removed]",
      "text/plain": [
       "<Figure size 1000x400 with 10 Axes>"
      ]
     },
     "metadata": {},
     "output_type": "display_data"
    }
   ],
   "source": [
    "augmented_images, labels = next(iter(mnist_augment_loader))\n",
    "vis_dt(augmented_images, labels, title= 'Augmented Images')"
   ]
  },
  {
   "cell_type": "code",
   "execution_count": 17,
   "id": "0c85ef2d-372d-4b76-8dc1-4fd50213862a",
   "metadata": {},
   "outputs": [],
   "source": [
    "# Training of Base Line Multi Layer Perceptron Model (Week 2)"
   ]
  },
  {
   "cell_type": "code",
   "execution_count": 18,
   "id": "b9f69650-f6c0-4ac3-87ff-f991f34618f9",
   "metadata": {},
   "outputs": [],
   "source": [
    "# Importing necessary modules\n",
    "import torch.nn as nn\n",
    "import torch.optim as optim"
   ]
  },
  {
   "cell_type": "code",
   "execution_count": 19,
   "id": "a550e1ed-390b-4495-89fe-2e776e2ab4f9",
   "metadata": {},
   "outputs": [],
   "source": [
    "# Defining the MLP Model and the fully connected layers\n",
    "class MLP(nn.Module):\n",
    "    def __init__(self, input_size=28*28, hidden_size=512, output_size=10):\n",
    "        super(MLP, self).__init__()\n",
    "        self.fc1 = nn.Linear(input_size, hidden_size) #Fully connected linear layer connecting input layer and hidden layer\n",
    "        self.relu = nn.ReLU() #Activation function ReLU as no squashing of input range\n",
    "        self.fc2 = nn.Linear(hidden_size, output_size) #Fully connected linear layer connecting hidden layer and output layer\n",
    "        \n",
    "    #Forward pass to define flow of data through layers\n",
    "    def forward(self, x):\n",
    "        x = x.view(x.size(0), -1)  # Flattening the 2D image to a 1D vector\n",
    "        x = self.fc1(x)\n",
    "        x = self.relu(x)\n",
    "        x = self.fc2(x)\n",
    "        return x\n",
    "\n"
   ]
  },
  {
   "cell_type": "code",
   "execution_count": 20,
   "id": "80c54341-0b1a-4605-b4a8-b4899883c218",
   "metadata": {},
   "outputs": [],
   "source": [
    "# Model, Loss Function and optimizer initializer\n",
    "model = MLP()\n",
    "criterion = nn.CrossEntropyLoss() #Cross Entropy due to Multi Class Function\n",
    "optimizer = optim.Adam(model.parameters(), lr=0.0009)  # Adam optimizer due to minimal tuning of hyoerparameters"
   ]
  },
  {
   "cell_type": "code",
   "execution_count": 21,
   "id": "fd4e9c26-1a8c-4d20-909d-a92844da6fe1",
   "metadata": {},
   "outputs": [
    {
     "name": "stdout",
     "output_type": "stream",
     "text": [
      "Epoch [1/30], Loss: 0.31\n",
      "Epoch [2/30], Loss: 0.14\n",
      "Epoch [3/30], Loss: 0.11\n",
      "Epoch [4/30], Loss: 0.09\n",
      "Epoch [5/30], Loss: 0.07\n",
      "Epoch [6/30], Loss: 0.06\n",
      "Epoch [7/30], Loss: 0.05\n",
      "Epoch [8/30], Loss: 0.05\n",
      "Epoch [9/30], Loss: 0.04\n",
      "Epoch [10/30], Loss: 0.04\n",
      "Epoch [11/30], Loss: 0.04\n",
      "Epoch [12/30], Loss: 0.03\n",
      "Epoch [13/30], Loss: 0.03\n",
      "Epoch [14/30], Loss: 0.03\n",
      "Epoch [15/30], Loss: 0.03\n",
      "Epoch [16/30], Loss: 0.02\n",
      "Epoch [17/30], Loss: 0.02\n",
      "Epoch [18/30], Loss: 0.02\n",
      "Epoch [19/30], Loss: 0.02\n",
      "Epoch [20/30], Loss: 0.02\n",
      "Epoch [21/30], Loss: 0.02\n",
      "Epoch [22/30], Loss: 0.02\n",
      "Epoch [23/30], Loss: 0.02\n",
      "Epoch [24/30], Loss: 0.02\n",
      "Epoch [25/30], Loss: 0.02\n",
      "Epoch [26/30], Loss: 0.02\n",
      "Epoch [27/30], Loss: 0.01\n",
      "Epoch [28/30], Loss: 0.02\n",
      "Epoch [29/30], Loss: 0.01\n",
      "Epoch [30/30], Loss: 0.02\n"
     ]
    }
   ],
   "source": [
    "num_epochs = 30 \n",
    "for epoch in range(num_epochs):\n",
    "    model.train()\n",
    "    total_loss = 0\n",
    "    for images, labels in train_loader:\n",
    "        optimizer.zero_grad()  # Clearing of gradients before backward pass\n",
    "        outputs = model(images)  # Forward pass\n",
    "        loss = criterion(outputs, labels)  # Loss Calculations\n",
    "        loss.backward()  # Backward pass\n",
    "        optimizer.step()  # Updating weights based on gradients\n",
    "        total_loss += loss.item()  # Accumulation of the loss\n",
    "\n",
    "    avg_loss = total_loss / len(train_loader)  # Calculation of the average loss for each epoch\n",
    "    print(f'Epoch [{epoch+1}/{num_epochs}], Loss: {avg_loss:.2f}')\n"
   ]
  }
 ],
 "metadata": {
  "kernelspec": {
   "display_name": "Python 3 (ipykernel)",
   "language": "python",
   "name": "python3"
  },
  "language_info": {
   "codemirror_mode": {
    "name": "ipython",
    "version": 3
   },
   "file_extension": ".py",
   "mimetype": "text/x-python",
   "name": "python",
   "nbconvert_exporter": "python",
   "pygments_lexer": "ipython3",
   "version": "3.10.11"
  }
 },
 "nbformat": 4,
 "nbformat_minor": 5
}
