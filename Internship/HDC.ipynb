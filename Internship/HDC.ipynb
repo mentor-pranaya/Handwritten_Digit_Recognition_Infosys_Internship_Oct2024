{
 "cells": [
  {
   "cell_type": "code",
   "execution_count": 1,
   "id": "efa23edd-5063-4a36-a0dd-2b870bd5b82b",
   "metadata": {},
   "outputs": [],
   "source": [
    "# Import necessary libraries\n",
    "import os    \n",
    "# Allow duplicate libraries to be loaded (useful for certain environments)\n",
    "os.environ['KMP_DUPLICATE_LIB_OK'] = 'True'"
   ]
  },
  {
   "cell_type": "code",
   "execution_count": 3,
   "id": "cb81cd82-d7fa-4f55-9deb-5580be588162",
   "metadata": {},
   "outputs": [],
   "source": [
    "import torch \n",
    "import torchvision"
   ]
  },
  {
   "cell_type": "code",
   "execution_count": 4,
   "id": "4453e021-8e38-47de-b3eb-7af66aa6944d",
   "metadata": {},
   "outputs": [],
   "source": [
    "import torchvision.transforms as transforms"
   ]
  },
  {
   "cell_type": "code",
   "execution_count": 5,
   "id": "00daa2d6-363c-473f-8ce3-acc18d971c61",
   "metadata": {},
   "outputs": [],
   "source": [
    "# Define a series of transformations to apply to the images\n",
    "transform = transforms.Compose([\n",
    "    transforms.ToTensor(),    # Convert images to PyTorch tensors\n",
    "    transforms.Normalize((0.5,), (1.5,)),   # Normalize the image to have mean 0.5 and std 1.5\n",
    "    ### Some examples of preprocessing\n",
    "    transforms.ColorJitter(brightness=0.2)  # Apply color jitter to randomly change brightness\n",
    "     # Uncomment the following lines to apply additional transformations\n",
    "    # transforms.GaussianBlur(kernel_size=(5, 5), sigma=(0.1, 1.0))  # Apply Gaussian blur\n",
    "    # transforms.RandomPerspective(distortion_scale=0.5, p=0.5)   # Apply random perspective transformation\n",
    "])"
   ]
  },
  {
   "cell_type": "code",
   "execution_count": 6,
   "id": "8cceb463-54f0-4cf0-a1ef-fda45d532bdd",
   "metadata": {},
   "outputs": [],
   "source": [
    "# Import the MNIST dataset\n",
    "from torchvision import datasets"
   ]
  },
  {
   "cell_type": "code",
   "execution_count": 7,
   "id": "8df891e3-e028-402a-98da-fc6aa2d388b3",
   "metadata": {},
   "outputs": [
    {
     "name": "stdout",
     "output_type": "stream",
     "text": [
      "Downloading http://yann.lecun.com/exdb/mnist/train-images-idx3-ubyte.gz\n",
      "Failed to download (trying next):\n",
      "<urlopen error [SSL: CERTIFICATE_VERIFY_FAILED] certificate verify failed: certificate has expired (_ssl.c:1006)>\n",
      "\n",
      "Downloading https://ossci-datasets.s3.amazonaws.com/mnist/train-images-idx3-ubyte.gz\n",
      "Downloading https://ossci-datasets.s3.amazonaws.com/mnist/train-images-idx3-ubyte.gz to ./data\\MNIST\\raw\\train-images-idx3-ubyte.gz\n"
     ]
    },
    {
     "name": "stderr",
     "output_type": "stream",
     "text": [
      "100%|███████████████████████████████████████████████████████████████████| 9912422/9912422 [00:03<00:00, 2742965.07it/s]\n"
     ]
    },
    {
     "name": "stdout",
     "output_type": "stream",
     "text": [
      "Extracting ./data\\MNIST\\raw\\train-images-idx3-ubyte.gz to ./data\\MNIST\\raw\n",
      "\n",
      "Downloading http://yann.lecun.com/exdb/mnist/train-labels-idx1-ubyte.gz\n",
      "Failed to download (trying next):\n",
      "<urlopen error [SSL: CERTIFICATE_VERIFY_FAILED] certificate verify failed: certificate has expired (_ssl.c:1006)>\n",
      "\n",
      "Downloading https://ossci-datasets.s3.amazonaws.com/mnist/train-labels-idx1-ubyte.gz\n",
      "Downloading https://ossci-datasets.s3.amazonaws.com/mnist/train-labels-idx1-ubyte.gz to ./data\\MNIST\\raw\\train-labels-idx1-ubyte.gz\n"
     ]
    },
    {
     "name": "stderr",
     "output_type": "stream",
     "text": [
      "100%|████████████████████████████████████████████████████████████████████████| 28881/28881 [00:00<00:00, 186299.26it/s]\n"
     ]
    },
    {
     "name": "stdout",
     "output_type": "stream",
     "text": [
      "Extracting ./data\\MNIST\\raw\\train-labels-idx1-ubyte.gz to ./data\\MNIST\\raw\n",
      "\n",
      "Downloading http://yann.lecun.com/exdb/mnist/t10k-images-idx3-ubyte.gz\n",
      "Failed to download (trying next):\n",
      "<urlopen error [SSL: CERTIFICATE_VERIFY_FAILED] certificate verify failed: certificate has expired (_ssl.c:1006)>\n",
      "\n",
      "Downloading https://ossci-datasets.s3.amazonaws.com/mnist/t10k-images-idx3-ubyte.gz\n",
      "Downloading https://ossci-datasets.s3.amazonaws.com/mnist/t10k-images-idx3-ubyte.gz to ./data\\MNIST\\raw\\t10k-images-idx3-ubyte.gz\n"
     ]
    },
    {
     "name": "stderr",
     "output_type": "stream",
     "text": [
      "100%|████████████████████████████████████████████████████████████████████| 1648877/1648877 [00:04<00:00, 404954.30it/s]\n"
     ]
    },
    {
     "name": "stdout",
     "output_type": "stream",
     "text": [
      "Extracting ./data\\MNIST\\raw\\t10k-images-idx3-ubyte.gz to ./data\\MNIST\\raw\n",
      "\n",
      "Downloading http://yann.lecun.com/exdb/mnist/t10k-labels-idx1-ubyte.gz\n",
      "Failed to download (trying next):\n",
      "<urlopen error [SSL: CERTIFICATE_VERIFY_FAILED] certificate verify failed: certificate has expired (_ssl.c:1006)>\n",
      "\n",
      "Downloading https://ossci-datasets.s3.amazonaws.com/mnist/t10k-labels-idx1-ubyte.gz\n",
      "Downloading https://ossci-datasets.s3.amazonaws.com/mnist/t10k-labels-idx1-ubyte.gz to ./data\\MNIST\\raw\\t10k-labels-idx1-ubyte.gz\n"
     ]
    },
    {
     "name": "stderr",
     "output_type": "stream",
     "text": [
      "100%|█████████████████████████████████████████████████████████████████████████| 4542/4542 [00:00<00:00, 2271706.27it/s]"
     ]
    },
    {
     "name": "stdout",
     "output_type": "stream",
     "text": [
      "Extracting ./data\\MNIST\\raw\\t10k-labels-idx1-ubyte.gz to ./data\\MNIST\\raw\n",
      "\n"
     ]
    },
    {
     "name": "stderr",
     "output_type": "stream",
     "text": [
      "\n"
     ]
    }
   ],
   "source": [
    "d1set = torchvision.datasets.MNIST(\n",
    "    root='./data',         # Directory to save/load the dataset\n",
    "    train=True,            # Load the training set\n",
    "    download=True,         # Download the dataset if not already present\n",
    "    transform=transform)   # Apply the defined transformations"
   ]
  },
  {
   "cell_type": "code",
   "execution_count": 8,
   "id": "85d815f1-87dc-492a-a047-4757dcd3c51e",
   "metadata": {},
   "outputs": [],
   "source": [
    "# Create a DataLoader for batching and shuffling the dataset\n",
    "d1loader = torch.utils.data.DataLoader(d1set, batch_size=64, shuffle=True)"
   ]
  },
  {
   "cell_type": "code",
   "execution_count": 9,
   "id": "eb7c5d35-e183-427f-8b87-7a4e4d3ceaca",
   "metadata": {},
   "outputs": [],
   "source": [
    "# Load the test dataset\n",
    "d1testset = torchvision.datasets.MNIST(\n",
    "    root='./data',  # Directory to save/load the dataset\n",
    "    train=False,  # Load the test set\n",
    "    download=True,  # Download the dataset if not already present\n",
    "    transform=transform  # Apply the defined transformations\n",
    ")"
   ]
  },
  {
   "cell_type": "code",
   "execution_count": 10,
   "id": "b59ab4e7-b725-49db-b083-f49a2b4456a4",
   "metadata": {},
   "outputs": [],
   "source": [
    "# Create a DataLoader for the test dataset\n",
    "d1testloader = torch.utils.data.DataLoader(d1testset, batch_size=64, shuffle=False)"
   ]
  },
  {
   "cell_type": "code",
   "execution_count": 11,
   "id": "078c1b9a-64b0-47dc-8b50-35a970f3a441",
   "metadata": {
    "scrolled": true
   },
   "outputs": [
    {
     "data": {
      "image/png": "[encoded data removed]",
      "text/plain": [
       "<Figure size 1000x1000 with 25 Axes>"
      ]
     },
     "metadata": {},
     "output_type": "display_data"
    }
   ],
   "source": [
    "# Import libraries for visualization\n",
    "import matplotlib.pyplot as plt\n",
    "import numpy as np\n",
    "\n",
    "# Select a few random images from the training dataset\n",
    "indices = np.random.choice(len(d1set), 25, replace=False) # Randomly choose 25 indices\n",
    "images = [d1set[i][0] for i in indices]  # Get the images using the selected indices\n",
    "labels = [d1set[i][1] for i in indices]  # Get the corresponding labels\n",
    "\n",
    "# Create a figure with a 5x5 grid of subplots to display images\n",
    "fig, axs = plt.subplots(5, 5, figsize=(10, 10))\n",
    "\n",
    "# Iterate over the subplots and display the images\n",
    "for i, ax in enumerate(axs.flatten()):\n",
    "    ax.imshow(images[i].squeeze(), cmap='gray')  # Display the image in grayscale\n",
    "    ax.set_title(f'Label: {labels[i]}')  # Set the title of the subplot to the label\n",
    "    ax.set_xticks([])    # Remove x-axis ticks\n",
    "    ax.set_yticks([])   # Remove y-axis ticks\n",
    "\n",
    "# Show the plot with the images\n",
    "plt.show()"
   ]
  },
  {
   "cell_type": "code",
   "execution_count": 12,
   "id": "ce5c27ac-3377-4a0d-9934-5fd3e6d8180b",
   "metadata": {},
   "outputs": [],
   "source": [
    "# transform = transforms.Compose([\n",
    "#     transforms.ToTensor(),\n",
    "#     transforms.Normalize((0.5,), (1.5,)),\n",
    "#     transforms.RandomHorizontalFlip(p=0.5),  # Flip horizontally with 50% probability\n",
    "#     transforms.RandomVerticalFlip(p=0.5),  # Flip vertically with 50% probability\n",
    "#     transforms.ColorJitter(brightness=0.2, contrast=0.2, saturation=0.2, hue=0.1),\n",
    "#     transforms.RandomAffine(degrees=15, translate=(0.1, 0.1), scale=(0.9, 1.1)),\n",
    "# ])"
   ]
  },
  {
   "cell_type": "code",
   "execution_count": 17,
   "id": "18f505bd-e4ba-451a-9a72-a6d5d57d7849",
   "metadata": {},
   "outputs": [],
   "source": [
    "# Explore the in detail MLP using pytorch\n",
    "# Different loss functions\n",
    "# Activation functions\n",
    "# Optimizers"
   ]
  },
  {
   "cell_type": "code",
   "execution_count": 18,
   "id": "8a35c066-063b-447d-9e56-58a77113812e",
   "metadata": {},
   "outputs": [],
   "source": [
    "# torch.cuda.is_available()"
   ]
  },
  {
   "cell_type": "code",
   "execution_count": null,
   "id": "246eca25-4366-4e81-ab11-993b3637e02a",
   "metadata": {},
   "outputs": [],
   "source": []
  }
 ],
 "metadata": {
  "kernelspec": {
   "display_name": "Python 3 (ipykernel)",
   "language": "python",
   "name": "python3"
  },
  "language_info": {
   "codemirror_mode": {
    "name": "ipython",
    "version": 3
   },
   "file_extension": ".py",
   "mimetype": "text/x-python",
   "name": "python",
   "nbconvert_exporter": "python",
   "pygments_lexer": "ipython3",
   "version": "3.11.5"
  }
 },
 "nbformat": 4,
 "nbformat_minor": 5
}
