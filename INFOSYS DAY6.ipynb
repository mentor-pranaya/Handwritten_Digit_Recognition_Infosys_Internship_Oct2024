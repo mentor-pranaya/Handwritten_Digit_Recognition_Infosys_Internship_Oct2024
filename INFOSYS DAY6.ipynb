{
 "cells": [
  {
   "cell_type": "markdown",
   "id": "5102a869-887e-4b49-811c-214126f6cef1",
   "metadata": {},
   "source": [
    "## More Preprocessing Steps"
   ]
  },
  {
   "cell_type": "code",
   "execution_count": 2,
   "id": "2b3f2062-b650-4197-a9e8-720a4c6303e4",
   "metadata": {},
   "outputs": [],
   "source": [
    "import os \n",
    "os.environ['KMP_DUPLICATE_LIB_OK']='True'"
   ]
  },
  {
   "cell_type": "code",
   "execution_count": 3,
   "id": "82466543-4898-4771-862d-5a262e6112af",
   "metadata": {},
   "outputs": [
    {
     "data": {
      "image/png": "[encoded data removed]",
      "text/plain": [
       "<Figure size 1500x200 with 10 Axes>"
      ]
     },
     "metadata": {},
     "output_type": "display_data"
    },
    {
     "name": "stdout",
     "output_type": "stream",
     "text": [
      "Epoch [1/5], Loss: 0.5347\n",
      "Epoch [2/5], Loss: 0.2545\n",
      "Epoch [3/5], Loss: 0.2012\n",
      "Epoch [4/5], Loss: 0.1718\n",
      "Epoch [5/5], Loss: 0.1516\n",
      "Accuracy: 98.52%\n"
     ]
    }
   ],
   "source": [
    "import torch\n",
    "import torch.nn as nn\n",
    "import torch.optim as optim\n",
    "import torchvision\n",
    "from torchvision import datasets, transforms\n",
    "from torch.utils.data import DataLoader\n",
    "import matplotlib.pyplot as plt\n",
    "\n",
    "# Step 1: Define the transformation pipeline with more preprocessing\n",
    "transform = transforms.Compose([\n",
    "    transforms.RandomRotation(10),                # Random rotation for data augmentation\n",
    "    transforms.RandomHorizontalFlip(),            # Random horizontal flip for data augmentation\n",
    "    transforms.RandomAffine(degrees=0, translate=(0.1, 0.1)),  # Random affine transformation\n",
    "    transforms.ColorJitter(brightness=0.2, contrast=0.2),      # Color jitter for brightness & contrast\n",
    "    transforms.ToTensor(),                        # Convert images to tensors\n",
    "    transforms.Normalize((0.5,), (0.5,))          # Normalize pixel values to [-1, 1]\n",
    "])\n",
    "\n",
    "# Step 2: Load the MNIST dataset with the transformations applied\n",
    "train_dataset = datasets.MNIST(root='./data', train=True, transform=transform, download=True)\n",
    "test_dataset = datasets.MNIST(root='./data', train=False, transform=transforms.Compose([\n",
    "    transforms.ToTensor(),\n",
    "    transforms.Normalize((0.5,), (0.5,))\n",
    "]))\n",
    "\n",
    "# Step 3: Create DataLoader for batching and shuffling\n",
    "train_loader = DataLoader(train_dataset, batch_size=64, shuffle=True)\n",
    "test_loader = DataLoader(test_dataset, batch_size=64, shuffle=False)\n",
    "\n",
    "# Step 4: Define a simple Convolutional Neural Network (CNN)\n",
    "class CNN(nn.Module):\n",
    "    def __init__(self):\n",
    "        super(CNN, self).__init__()\n",
    "        self.conv1 = nn.Conv2d(1, 32, kernel_size=3, padding=1)\n",
    "        self.conv2 = nn.Conv2d(32, 64, kernel_size=3, padding=1)\n",
    "        self.fc1 = nn.Linear(64*7*7, 128)\n",
    "        self.fc2 = nn.Linear(128, 10)\n",
    "        self.pool = nn.MaxPool2d(2, 2)\n",
    "        self.dropout = nn.Dropout(0.25)\n",
    "\n",
    "    def forward(self, x):\n",
    "        x = self.pool(torch.relu(self.conv1(x)))  # First convolutional layer + pooling\n",
    "        x = self.pool(torch.relu(self.conv2(x)))  # Second convolutional layer + pooling\n",
    "        x = x.view(-1, 64*7*7)                   # Flatten\n",
    "        x = torch.relu(self.fc1(x))              # Fully connected layer 1\n",
    "        x = self.dropout(x)                      # Dropout for regularization\n",
    "        x = self.fc2(x)                          # Fully connected layer 2 (output)\n",
    "        return x\n",
    "\n",
    "# Step 5: Create the model, define loss function and optimizer\n",
    "model = CNN()\n",
    "criterion = nn.CrossEntropyLoss()\n",
    "optimizer = optim.Adam(model.parameters(), lr=0.001)\n",
    "\n",
    "# Step 6: Train the model\n",
    "def train_model(model, train_loader, criterion, optimizer, epochs=5):\n",
    "    model.train()\n",
    "    for epoch in range(epochs):\n",
    "        running_loss = 0.0\n",
    "        for images, labels in train_loader:\n",
    "            optimizer.zero_grad()                 # Zero the parameter gradients\n",
    "            outputs = model(images)               # Forward pass\n",
    "            loss = criterion(outputs, labels)     # Compute the loss\n",
    "            loss.backward()                       # Backward pass (compute gradients)\n",
    "            optimizer.step()                      # Optimize weights\n",
    "            \n",
    "            running_loss += loss.item()\n",
    "        print(f'Epoch [{epoch+1}/{epochs}], Loss: {running_loss/len(train_loader):.4f}')\n",
    "\n",
    "# Step 7: Evaluate the model on the test dataset\n",
    "def evaluate_model(model, test_loader):\n",
    "    model.eval()  # Set model to evaluation mode\n",
    "    correct = 0\n",
    "    total = 0\n",
    "    with torch.no_grad():\n",
    "        for images, labels in test_loader:\n",
    "            outputs = model(images)\n",
    "            _, predicted = torch.max(outputs.data, 1)\n",
    "            total += labels.size(0)\n",
    "            correct += (predicted == labels).sum().item()\n",
    "    print(f'Accuracy: {100 * correct / total:.2f}%')\n",
    "\n",
    "# Step 8: Visualize the preprocessed images\n",
    "def show_images(images, labels, num_images=10):\n",
    "    images = images[:num_images]\n",
    "    labels = labels[:num_images]\n",
    "    images = images * 0.5 + 0.5  # Denormalize to [0, 1] for display\n",
    "    \n",
    "    fig, axes = plt.subplots(1, num_images, figsize=(15, 2))\n",
    "    for idx in range(num_images):\n",
    "        axes[idx].imshow(images[idx].squeeze(), cmap='gray')\n",
    "        axes[idx].set_title(f\"Label: {labels[idx].item()}\")\n",
    "        axes[idx].axis('off')\n",
    "    plt.show()\n",
    "\n",
    "# Step 9: Train, evaluate, and visualize\n",
    "if __name__ == \"__main__\":\n",
    "    # Show a batch of preprocessed images\n",
    "    data_iter = iter(train_loader)\n",
    "    images, labels = next(data_iter)\n",
    "    show_images(images, labels)\n",
    "\n",
    "    # Train the model\n",
    "    train_model(model, train_loader, criterion, optimizer, epochs=5)\n",
    "    \n",
    "    # Evaluate the model\n",
    "    evaluate_model(model, test_loader)\n"
   ]
  },
  {
   "cell_type": "markdown",
   "id": "55dad1d2-0612-40fc-bfb8-c93581fe7e40",
   "metadata": {},
   "source": [
    "# Multi-Layer Perceptron"
   ]
  },
  {
   "cell_type": "markdown",
   "id": "ea9792de-97de-48eb-80aa-d3d1113529c9",
   "metadata": {},
   "source": [
    "# Perceptron (Simplified)\n",
    "## A Perceptron is the most basic unit of a neural network, often called an artificial neuron. It mimics the way a human brain works in making decisions, but in a very simple way. \n",
    "\n",
    "# Here's how it functions:\n",
    "\n",
    "1.Input: It takes in one or more inputs, like features from data (e.g., age, height, or price).\n",
    "\n",
    "2.Weights: Each input is assigned a weight, which indicates its importance. For example, if one feature matters more, it gets a higher weight.\n",
    "Sum and Activation: It adds up the weighted inputs and passes the result through an activation function (usually a threshold like 0 or 1) to produce an output.\n",
    "\n",
    "3.Output: The output is usually binary, such as 0 or 1, which represents a decision or classification.\n",
    "In simple terms, a perceptron can be thought of as a very basic model that takes input, processes it, and makes a decision.\n",
    "\n",
    "# Multi-Layer Perceptron (MLP)\n",
    "\n",
    "A Multi-Layer Perceptron (MLP) is a more complex version of the basic perceptron, used in deep learning. It has multiple layers of perceptrons, allowing it to learn more complex patterns. Here’s a simplified explanation:\n",
    "\n",
    "# Layers:\n",
    "\n",
    "1.Input Layer: This is where the input data enters the network.\n",
    "\n",
    "2.Hidden Layers: These are layers between the input and output layers. They process the input data using multiple perceptrons, each contributing to learning complex patterns. The more hidden layers, the more powerful the MLP.\n",
    "\n",
    "3.Output Layer: This gives the final result (e.g., classification like cat/dog).\n",
    "\n",
    "# Working:\n",
    "\n",
    "The input passes through the layers, where each neuron in one layer connects to every neuron in the next.\n",
    "\n",
    "Each connection has a weight, and the perceptrons in hidden layers apply activation functions (like Sigmoid, ReLU) to learn non-linear patterns.\n",
    "\n",
    "The network adjusts the weights through a process called backpropagation to improve its accuracy.\n",
    "# Example\n",
    "Think of a simple perceptron as a basic \"if-else\" rule, while a multi-layer perceptron is like having multiple layers of decisions working together to recognize complex patterns—like telling the difference between handwritten letters or detecting if an email is spam."
   ]
  },
  {
   "cell_type": "code",
   "execution_count": null,
   "id": "d0ca15c2-d0d7-4c3e-805b-d44115df77d1",
   "metadata": {},
   "outputs": [],
   "source": []
  },
  {
   "cell_type": "markdown",
   "id": "834f6423-4ac7-400a-9fb7-23c88ff45df8",
   "metadata": {},
   "source": [
    "## what is neural network "
   ]
  },
  {
   "cell_type": "markdown",
   "id": "80860533-068b-4c64-b8f0-04370d6f7db3",
   "metadata": {},
   "source": [
    "## A neural network is a type of machine learning model designed to mimic the way the human brain works. It consists of layers of nodes (also called neurons), which work together to solve complex tasks like recognizing images, making predictions, or classifying data.\n",
    "\n",
    "# How it works :\n",
    "Input Layer: This is the first layer that receives the raw data, like an image or numbers from a dataset. Each piece of data goes into a separate neuron in the input layer.\n",
    "\n",
    "Hidden Layers: These are the middle layers between the input and output layers. The neurons here take the input, process it, and pass the information to the next layer. There can be one or many hidden layers, and this is where most of the \"learning\" happens.\n",
    "\n",
    "Output Layer: This is the last layer where the final decision or prediction is made. For example, if the task is recognizing whether an image contains a cat or dog, the output layer will say \"cat\" or \"dog.\"\n",
    "\n",
    "# Key Components:\n",
    "1.Neurons: Each neuron gets information, processes it, and decides whether to pass it forward. It’s similar to how brain neurons work.\n",
    "\n",
    "2.Weights: Each connection between neurons has a weight, which determines how much influence one neuron has on another. The network adjusts these weights during training to improve performance.\n",
    "\n",
    "3.Activation Function: After each neuron processes the data, it uses an activation function (like ReLU or Sigmoid) to decide whether to activate (pass forward) or not.\n",
    "\n",
    "4.Learning (Training): The network learns from data through a process called training. During training, the network adjusts the weights and connections to improve its accuracy. This is usually done using an algorithm called backpropagation.\n",
    "\n",
    "# Example:\n",
    "\n",
    "Think of a neural network like a huge team of people solving a complex puzzle. Each person (neuron) works on a small part of the puzzle and passes information to others. After many rounds of trial and error (training), they figure out the best way to solve the puzzle (make predictions)."
   ]
  }
 ],
 "metadata": {
  "kernelspec": {
   "display_name": "Python 3 (ipykernel)",
   "language": "python",
   "name": "python3"
  },
  "language_info": {
   "codemirror_mode": {
    "name": "ipython",
    "version": 3
   },
   "file_extension": ".py",
   "mimetype": "text/x-python",
   "name": "python",
   "nbconvert_exporter": "python",
   "pygments_lexer": "ipython3",
   "version": "3.12.4"
  }
 },
 "nbformat": 4,
 "nbformat_minor": 5
}
