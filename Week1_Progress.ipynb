{
 "cells": [
  {
   "cell_type": "code",
   "execution_count": 1,
   "id": "0d524d44-f3e0-4dde-a779-524819bcc536",
   "metadata": {},
   "outputs": [],
   "source": [
    "#!pip install torch torchvision"
   ]
  },
  {
   "cell_type": "code",
   "execution_count": 2,
   "id": "0d0217ae-818a-40c3-bd01-33ccc56ad7dc",
   "metadata": {},
   "outputs": [],
   "source": [
    "#Importing the required Libraries\n",
    "import torch\n",
    "from torchvision import datasets, transforms\n",
    "from torch.utils.data import DataLoader"
   ]
  },
  {
   "cell_type": "code",
   "execution_count": 3,
   "id": "7f9815ec-323d-4dcb-98f7-3320e42bc9e5",
   "metadata": {},
   "outputs": [
    {
     "data": {
      "text/plain": [
       "'2.4.1+cpu'"
      ]
     },
     "execution_count": 3,
     "metadata": {},
     "output_type": "execute_result"
    }
   ],
   "source": [
    "#Check the Version\n",
    "torch.__version__"
   ]
  },
  {
   "cell_type": "code",
   "execution_count": 4,
   "id": "5a2bbd79-31d6-49fa-891c-e18dfed2c846",
   "metadata": {},
   "outputs": [],
   "source": [
    "#Preprocessing\n",
    "transform = transforms.Compose([\n",
    "    transforms.ToTensor(),\n",
    "    transforms.Normalize((0.5,), (0.5,))\n",
    "])"
   ]
  },
  {
   "cell_type": "code",
   "execution_count": 5,
   "id": "7f7d01eb-3f80-4f17-afcd-ffff6dc8031a",
   "metadata": {},
   "outputs": [
    {
     "data": {
      "text/plain": [
       "'transform = transforms.Compose([\\n    transforms.RandomRotation(10),          \\n    transforms.RandomAffine(degrees=0, translate=(0.1, 0.1))\\n])'"
      ]
     },
     "execution_count": 5,
     "metadata": {},
     "output_type": "execute_result"
    }
   ],
   "source": [
    "#optional\n",
    "'''transform = transforms.Compose([\n",
    "    transforms.RandomRotation(10),          \n",
    "    transforms.RandomAffine(degrees=0, translate=(0.1, 0.1))\n",
    "])'''"
   ]
  },
  {
   "cell_type": "code",
   "execution_count": 6,
   "id": "c1358526-bec5-4b5b-acf0-ca9e7969e954",
   "metadata": {},
   "outputs": [],
   "source": [
    "#Downloading the data\n",
    "train_data = datasets.MNIST(root='mnist_data', train=True, download=True, transform=transform)\n",
    "test_data = datasets.MNIST(root='mnist_data', train=False, download=True, transform=transform)"
   ]
  },
  {
   "cell_type": "code",
   "execution_count": 7,
   "id": "87bcd26a-f3eb-4210-ba77-8a351af69bb5",
   "metadata": {},
   "outputs": [],
   "source": [
    "#Loading the data\n",
    "train_loader = torch.utils.data.DataLoader(train_data, batch_size=15, shuffle=True)\n",
    "test_loader = torch.utils.data.DataLoader(test_data, batch_size=15, shuffle=False)"
   ]
  },
  {
   "cell_type": "code",
   "execution_count": 8,
   "id": "99ae2a05-d69d-46f6-861c-910218bf508d",
   "metadata": {},
   "outputs": [],
   "source": [
    "import matplotlib.pyplot as plt"
   ]
  },
  {
   "cell_type": "code",
   "execution_count": 9,
   "id": "3a68845e-3317-45a6-8caa-076e452990db",
   "metadata": {},
   "outputs": [],
   "source": [
    "#Visualising the data\n",
    "def show_img(images, labels):\n",
    "    num_imgs = 5\n",
    "    plt.figure(figsize=(12, 4))\n",
    "    for i in range(num_imgs):\n",
    "        plt.subplot(2, 5, i+1)\n",
    "        plt.imshow(images[i].squeeze())\n",
    "        plt.title(f'Label: {labels[i].item()}')\n",
    "        \n",
    "    plt.show()"
   ]
  },
  {
   "cell_type": "code",
   "execution_count": 10,
   "id": "44454ccf-711d-42ef-a80f-a6091077c487",
   "metadata": {},
   "outputs": [
    {
     "ename": "NameError",
     "evalue": "name 'loader' is not defined",
     "output_type": "error",
     "traceback": [
      "\u001b[1;31m---------------------------------------------------------------------------\u001b[0m",
      "\u001b[1;31mNameError\u001b[0m                                 Traceback (most recent call last)",
      "Cell \u001b[1;32mIn[10], line 1\u001b[0m\n\u001b[1;32m----> 1\u001b[0m \u001b[38;5;28;01mfor\u001b[39;00m images, labels \u001b[38;5;129;01min\u001b[39;00m loader:\n\u001b[0;32m      2\u001b[0m     show_img(images, labels)\n\u001b[0;32m      3\u001b[0m     \u001b[38;5;28;01mbreak\u001b[39;00m\n",
      "\u001b[1;31mNameError\u001b[0m: name 'loader' is not defined"
     ]
    }
   ],
   "source": [
    "for images, labels in loader:\n",
    "    show_img(images, labels)\n",
    "    break"
   ]
  },
  {
   "cell_type": "code",
   "execution_count": null,
   "id": "ba42916f-c96f-4b9f-a14b-f6419e154a89",
   "metadata": {},
   "outputs": [],
   "source": []
  }
 ],
 "metadata": {
  "kernelspec": {
   "display_name": "Python 3 (ipykernel)",
   "language": "python",
   "name": "python3"
  },
  "language_info": {
   "codemirror_mode": {
    "name": "ipython",
    "version": 3
   },
   "file_extension": ".py",
   "mimetype": "text/x-python",
   "name": "python",
   "nbconvert_exporter": "python",
   "pygments_lexer": "ipython3",
   "version": "3.12.4"
  }
 },
 "nbformat": 4,
 "nbformat_minor": 5
}
