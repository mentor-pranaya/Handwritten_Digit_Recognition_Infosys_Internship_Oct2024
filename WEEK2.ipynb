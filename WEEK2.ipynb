{
 "cells": [
  {
   "cell_type": "code",
   "execution_count": 5,
   "id": "28ad6a08-4a0c-4407-b7ba-e8a56646852a",
   "metadata": {},
   "outputs": [
    {
     "name": "stdout",
     "output_type": "stream",
     "text": [
      "Epoch [1/10], Loss: 0.32\n",
      "Epoch [2/10], Loss: 0.14\n",
      "Epoch [3/10], Loss: 0.11\n",
      "Epoch [4/10], Loss: 0.09\n",
      "Epoch [5/10], Loss: 0.07\n",
      "Epoch [6/10], Loss: 0.06\n",
      "Epoch [7/10], Loss: 0.05\n",
      "Epoch [8/10], Loss: 0.05\n",
      "Epoch [9/10], Loss: 0.04\n",
      "Epoch [10/10], Loss: 0.04\n"
     ]
    }
   ],
   "source": [
    "# Importing necessary modules\n",
    "import torch\n",
    "import torch.nn as nn  # Importing neural network module\n",
    "import torch.optim as optim  # Importing optimization algorithms\n",
    "from torch.utils.data import DataLoader  # Importing DataLoader for batch processing\n",
    "import torchvision.datasets as dt  # Importing torchvision dataset utilities\n",
    "import torchvision.transforms as transforms  # Importing transforms for image processing\n",
    "\n",
    "# Defining transformations to process and normalize the dataset\n",
    "transform = transforms.Compose([\n",
    "    transforms.ToTensor(),  # Convert images to tensors\n",
    "    transforms.Normalize((0.5,), (0.5,)),  # Normalize the image data between -1 and 1\n",
    "])\n",
    "\n",
    "# Loading the MNIST dataset (handwritten digits) with defined transformations\n",
    "train_dataset = dt.MNIST(root='./data', train=True, download=True, transform=transform)\n",
    "train_loader = DataLoader(train_dataset, batch_size=64, shuffle=True)  # DataLoader to load data in batches of 64, with shuffling\n",
    "\n",
    "# Defining the MLP (Multi-Layer Perceptron) model for digit classification\n",
    "class MLP(nn.Module):\n",
    "    def __init__(self, input_size=28*28, hidden_size=512, output_size=10):\n",
    "        super(MLP, self).__init__()  # Initialize parent class (nn.Module)\n",
    "        self.fc1 = nn.Linear(input_size, hidden_size)  # First fully connected layer, input: flattened image (28x28), output: 512 neurons\n",
    "        self.relu = nn.ReLU()  # ReLU activation function to introduce non-linearity\n",
    "        self.fc2 = nn.Linear(hidden_size, output_size)  # Second fully connected layer, input: 512 neurons, output: 10 (for 10 digits)\n",
    "\n",
    "    # Defining the forward pass (how data moves through the model)\n",
    "    def forward(self, x):\n",
    "        x = x.view(x.size(0), -1)  # Flatten the 28x28 image into a 1D vector (28*28=784)\n",
    "        x = self.fc1(x)  # Pass data through the first fully connected layer\n",
    "        x = self.relu(x)  # Apply ReLU activation function\n",
    "        x = self.fc2(x)  # Pass data through the second fully connected layer\n",
    "        return x  # Return the output (logits)\n",
    "\n",
    "# Initialize the model, loss function, and optimizer\n",
    "model = MLP()  # Instantiate the MLP model\n",
    "criterion = nn.CrossEntropyLoss()  # Use CrossEntropyLoss for multi-class classification\n",
    "optimizer = optim.Adam(model.parameters(), lr=0.0009)  # Adam optimizer to update weights, with a learning rate of 0.0009\n",
    "\n",
    "# Training Loop (to train the model over multiple epochs)\n",
    "num_epochs = 10  # Define the number of epochs (how many times the model will see the entire dataset)\n",
    "for epoch in range(num_epochs):\n",
    "    model.train()  # Set the model to training mode (important for layers like dropout, which behave differently during training)\n",
    "    total_loss = 0  # Initialize the total loss for the current epoch\n",
    "    \n",
    "    # Loop through the training data in batches\n",
    "    for images, labels in train_loader:\n",
    "        optimizer.zero_grad()  # Clear previous gradients to prevent accumulation\n",
    "        outputs = model(images)  # Forward pass: Get the model predictions\n",
    "        loss = criterion(outputs, labels)  # Compute the loss between predictions and actual labels\n",
    "        loss.backward()  # Backward pass: Compute the gradients for backpropagation\n",
    "        optimizer.step()  # Update the model weights based on the gradients\n",
    "        total_loss += loss.item()  # Accumulate the loss for the current batch\n",
    "    \n",
    "    # Calculate and print the average loss for the epoch\n",
    "    avg_loss = total_loss / len(train_loader)  # Average loss across all batches\n",
    "    print(f'Epoch [{epoch+1}/{num_epochs}], Loss: {avg_loss:.2f}')  # Print epoch number and average loss\n"
   ]
  },
  {
   "cell_type": "code",
   "execution_count": null,
   "id": "6bcd7c33-dfbf-4918-bcd8-5ff5210baf4f",
   "metadata": {},
   "outputs": [],
   "source": []
  },
  {
   "cell_type": "code",
   "execution_count": null,
   "id": "1c657450-1b28-43e2-ab53-1b0917a2ca65",
   "metadata": {},
   "outputs": [],
   "source": []
  }
 ],
 "metadata": {
  "kernelspec": {
   "display_name": "Python 3 (ipykernel)",
   "language": "python",
   "name": "python3"
  },
  "language_info": {
   "codemirror_mode": {
    "name": "ipython",
    "version": 3
   },
   "file_extension": ".py",
   "mimetype": "text/x-python",
   "name": "python",
   "nbconvert_exporter": "python",
   "pygments_lexer": "ipython3",
   "version": "3.12.4"
  }
 },
 "nbformat": 4,
 "nbformat_minor": 5
}
