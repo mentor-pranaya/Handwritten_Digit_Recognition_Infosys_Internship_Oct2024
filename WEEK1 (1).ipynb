{
 "cells": [
  {
   "cell_type": "code",
   "execution_count": 1,
   "id": "073808e9-c000-46f6-b76c-2ca6aaf4b542",
   "metadata": {},
   "outputs": [],
   "source": [
    "import os \n",
    "os.environ['KMP_DUPLICATE_LIB_OK']='True'"
   ]
  },
  {
   "cell_type": "markdown",
   "id": "298d3e23-99b4-4c6d-a43b-a699f7322360",
   "metadata": {},
   "source": [
    "# Imports and Basic Setup"
   ]
  },
  {
   "cell_type": "code",
   "execution_count": 3,
   "id": "9ce68ca8-a2a2-4e07-b266-421724943daf",
   "metadata": {},
   "outputs": [],
   "source": [
    "import torch\n",
    "import torchvision\n",
    "import matplotlib.pyplot as plt\n",
    "from torchvision import transforms\n",
    "from torch.utils.data import DataLoader\n",
    "import torchvision.datasets as dt\n",
    "import numpy as np\n",
    "#torch: This is the PyTorch library, which provides functions for deep learning, tensor manipulation, etc. \n",
    "\n",
    "#torchvision: Contains popular datasets, model architectures, and image transformations for computer vision.\n",
    "\n",
    "#matplotlib.pyplot: A plotting library used for visualization.\n",
    "\n",
    "#transforms: From torchvision, helps in applying data transformations like converting images to tensors, normalizing them, augmentations, etc.\n",
    "\n",
    "#DataLoader: A PyTorch utility that creates an iterator over datasets, handling batching, shuffling, etc.\n",
    "\n",
    "#datasets (dt): Contains predefined datasets, including MNIST, CIFAR, and more.\n",
    "\n",
    "#numpy: For numerical operations\n"
   ]
  },
  {
   "cell_type": "markdown",
   "id": "a0196067-f7e9-4fc3-b566-85d157cce69a",
   "metadata": {},
   "source": [
    "# Transformations for MNIST Data"
   ]
  },
  {
   "cell_type": "code",
   "execution_count": 7,
   "id": "59418b5d-68d6-43ee-a3a9-5e2427a4c088",
   "metadata": {},
   "outputs": [],
   "source": [
    "transform = transforms.Compose([\n",
    "    transforms.ToTensor(),\n",
    "    transforms.Normalize((0.5,), (0.5,)),\n",
    "])\n",
    "\n",
    "# ToTensor(): Converts the images into PyTorch tensors (from NumPy or PIL).\n",
    "\n",
    "# Normalize((0.5,), (0.5,)): Normalizes the pixel values to have a mean of 0.5 and a standard deviation of 0.5, \n",
    "# which scales the pixel range from [0, 1] to [-1, 1]."
   ]
  },
  {
   "cell_type": "markdown",
   "id": "e5050b00-d822-4d64-89cc-fa49c0e90328",
   "metadata": {},
   "source": [
    "# Loading MNIST Dataset"
   ]
  },
  {
   "cell_type": "code",
   "execution_count": 11,
   "id": "faf5508e-5bf4-4979-99a6-c4328b452d45",
   "metadata": {},
   "outputs": [],
   "source": [
    "mnist_dataset = dt.MNIST(root='./data', download=True, transform=transform)\n",
    "mnist_loader = DataLoader(mnist_dataset, batch_size=25, shuffle=True)\n",
    "\n",
    "# MNIST Dataset: The MNIST dataset of handwritten digits is downloaded and transformed using the transform defined above.\n",
    "\n",
    "# root='./data': The directory where the dataset is stored or downloaded.\n",
    "\n",
    "# download=True: Downloads the dataset if it’s not already available.\n",
    "\n",
    "# transform=transform: Applies the transformations (tensor conversion and normalization).\n",
    "\n",
    "# DataLoader: Provides batches of size 25 and shuffles the data for each epoch to ensure better generalization during training.\n"
   ]
  },
  {
   "cell_type": "markdown",
   "id": "94a70ead-c6ed-4270-9377-2338f1f8f270",
   "metadata": {},
   "source": [
    "# Visualization Function for Original Images"
   ]
  },
  {
   "cell_type": "code",
   "execution_count": 14,
   "id": "3c534d32-7401-4ed4-834d-7d6a78df0054",
   "metadata": {},
   "outputs": [],
   "source": [
    "def vis_dt(images, labels, title='Original Images'):\n",
    "    fig, axes = plt.subplots(2, 5, figsize=(10, 4))\n",
    "    for i in range(10):\n",
    "        ax = axes[i//5, i%5]\n",
    "        ax.imshow(images[i].squeeze().numpy(), cmap='gray')\n",
    "        ax.set_title(f'Original: {labels[i].item()}')\n",
    "        ax.axis('off')\n",
    "    plt.tight_layout()\n",
    "    plt.show()\n",
    "\n",
    "# Subplots: Creates a 2x5 grid (2 rows, 5 columns) for displaying 10 images.\n",
    "\n",
    "# images[i].squeeze(): Removes the channel dimension (since the images are grayscale, they have only one channel).\n",
    "\n",
    "# imshow(): Displays the image with a grayscale colormap.\n",
    "\n",
    "# labels[i].item(): Retrieves the label for the ith image.\n",
    "\n",
    "# plt.tight_layout(): Adjusts the subplot layout for better spacing.\n"
   ]
  },
  {
   "cell_type": "markdown",
   "id": "a74e31ba-ea26-4ced-a5cf-95b9265cb668",
   "metadata": {},
   "source": [
    "# Displaying Original MNIST Images"
   ]
  },
  {
   "cell_type": "code",
   "execution_count": 17,
   "id": "40e558af-21dd-4e90-8931-e38f4ec8f123",
   "metadata": {},
   "outputs": [
    {
     "data": {
      "image/png": "[encoded data removed]",
      "text/plain": [
       "<Figure size 1000x400 with 10 Axes>"
      ]
     },
     "metadata": {},
     "output_type": "display_data"
    }
   ],
   "source": [
    "images, labels = next(iter(mnist_loader))\n",
    "vis_dt(images, labels)\n",
    "\n",
    "# next(iter(mnist_loader)): Fetches one batch (25 images and labels) from the DataLoader.\n",
    "\n",
    "# vis_dt: The function is called to visualize the first 10 images and their labels from the batch.\n"
   ]
  },
  {
   "cell_type": "markdown",
   "id": "2b9f9c7f-f3f7-42c3-a134-0d306b9932da",
   "metadata": {},
   "source": [
    "# Data Augmentation and Preprocessing"
   ]
  },
  {
   "cell_type": "code",
   "execution_count": 20,
   "id": "6e143053-647d-4db5-98d1-70ea738b1bda",
   "metadata": {},
   "outputs": [],
   "source": [
    "transform_augment = transforms.Compose([\n",
    "    transforms.RandomRotation(degrees=30),\n",
    "    transforms.RandomVerticalFlip(),\n",
    "    transforms.GaussianBlur(kernel_size=(5, 5), sigma=(0.1, 2.0)),\n",
    "    transforms.ToTensor(),\n",
    "    transforms.Normalize((0.5,), (0.5,)),\n",
    "    transforms.RandomErasing(scale=(1, 1), ratio=(5, 5)),\n",
    "])\n",
    "\n",
    "# RandomRotation: Randomly rotates the image by up to 30 degrees.\n",
    "\n",
    "# RandomVerticalFlip: Randomly flips the image vertically.\n",
    "\n",
    "# GaussianBlur: Applies a Gaussian blur with a kernel size of 5x5 and a sigma value ranging between 0.1 and 2.0.\n",
    "\n",
    "# ToTensor: Converts the augmented images into tensors.\n",
    "\n",
    "# Normalize: Same as before, normalizing the pixel values.\n",
    "\n",
    "# RandomErasing: Randomly erases a part of the image, which is another form of augmentation to improve robustness.\n",
    "\n"
   ]
  },
  {
   "cell_type": "markdown",
   "id": "bb2f978a-4dd0-4846-8a8b-8e5e27b3698a",
   "metadata": {},
   "source": [
    "# Loading Augmented MNIST Data"
   ]
  },
  {
   "cell_type": "code",
   "execution_count": 23,
   "id": "a9d5acda-96a4-4e1b-8ed3-6781898c4a44",
   "metadata": {},
   "outputs": [],
   "source": [
    "mnist_augment_dataset = dt.MNIST(root='./data', download=True, transform=transform_augment)\n",
    "mnist_augment_loader = DataLoader(mnist_augment_dataset, batch_size=25, shuffle=True)\n",
    "\n",
    "# This is similar to the original dataset loading but with data augmentation transformations. The augmented dataset is also loaded into a DataLoader with a batch size of 25\n"
   ]
  },
  {
   "cell_type": "markdown",
   "id": "c8826108-dae8-456a-89ba-b4dcd03e2a2c",
   "metadata": {},
   "source": [
    "# Visualization Function for Augmented Images"
   ]
  },
  {
   "cell_type": "code",
   "execution_count": 26,
   "id": "38d597f0-ede5-49be-8268-1ae540c4b400",
   "metadata": {},
   "outputs": [],
   "source": [
    "def vis_dt(augmented_images, labels, title='Augmented Images'):\n",
    "    fig, axes = plt.subplots(2, 5, figsize=(10, 4))\n",
    "    for i in range(10):\n",
    "        ax = axes[i//5, i%5]\n",
    "        ax.imshow(augmented_images[i].squeeze().numpy(), cmap='gray')\n",
    "        ax.set_title(f'Augmented: {labels[i].item()}')\n",
    "        ax.axis('off')\n",
    "    plt.tight_layout()\n",
    "    plt.show()\n",
    "\n",
    "# This function is identical to the one for the original images, but it now visualizes the augmented images. The labels are also displayed."
   ]
  },
  {
   "cell_type": "markdown",
   "id": "1c6282a3-3e9f-47ce-b81c-71a22cda2fc2",
   "metadata": {},
   "source": [
    "# Displaying Augmented Images"
   ]
  },
  {
   "cell_type": "code",
   "execution_count": 29,
   "id": "b298358a-23d0-462f-9988-af921e0e82e1",
   "metadata": {},
   "outputs": [
    {
     "data": {
      "image/png": "[encoded data removed]",
      "text/plain": [
       "<Figure size 1000x400 with 10 Axes>"
      ]
     },
     "metadata": {},
     "output_type": "display_data"
    }
   ],
   "source": [
    "augmented_images, labels = next(iter(mnist_augment_loader))\n",
    "vis_dt(augmented_images, labels, title='Augmented Images')\n",
    "\n",
    "# next(iter(mnist_augment_loader)): Fetches one batch of augmented images.\n",
    "\n",
    "# vis_dt: Displays the first 10 augmented images and their labels."
   ]
  },
  {
   "cell_type": "markdown",
   "id": "5f52f84b-8054-434a-b3c5-340ecfb64907",
   "metadata": {},
   "source": []
  }
 ],
 "metadata": {
  "kernelspec": {
   "display_name": "Python 3 (ipykernel)",
   "language": "python",
   "name": "python3"
  },
  "language_info": {
   "codemirror_mode": {
    "name": "ipython",
    "version": 3
   },
   "file_extension": ".py",
   "mimetype": "text/x-python",
   "name": "python",
   "nbconvert_exporter": "python",
   "pygments_lexer": "ipython3",
   "version": "3.12.4"
  }
 },
 "nbformat": 4,
 "nbformat_minor": 5
}
