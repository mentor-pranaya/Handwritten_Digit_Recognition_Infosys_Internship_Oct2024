{
 "cells": [
  {
   "cell_type": "markdown",
   "metadata": {},
   "source": [
    "<h4 align ='center'>Kushagra Singh | Infosys Project</h4>\n",
    "<h4 align ='center'>Using MNIST Dataset and MLP, CNN & LeNet5 models</h4>\n",
    "<br>"
   ]
  },
  {
   "cell_type": "code",
   "execution_count": 4,
   "metadata": {},
   "outputs": [
    {
     "name": "stdout",
     "output_type": "stream",
     "text": [
      "Requirement already satisfied: torch in c:\\users\\kushagra\\appdata\\local\\programs\\python\\python312\\lib\\site-packages (2.4.1)\n",
      "Requirement already satisfied: torchvision in c:\\users\\kushagra\\appdata\\local\\programs\\python\\python312\\lib\\site-packages (0.19.1)\n",
      "Requirement already satisfied: filelock in c:\\users\\kushagra\\appdata\\local\\programs\\python\\python312\\lib\\site-packages (from torch) (3.16.1)\n",
      "Requirement already satisfied: typing-extensions>=4.8.0 in c:\\users\\kushagra\\appdata\\local\\programs\\python\\python312\\lib\\site-packages (from torch) (4.12.2)\n",
      "Requirement already satisfied: sympy in c:\\users\\kushagra\\appdata\\local\\programs\\python\\python312\\lib\\site-packages (from torch) (1.13.3)\n",
      "Requirement already satisfied: networkx in c:\\users\\kushagra\\appdata\\local\\programs\\python\\python312\\lib\\site-packages (from torch) (3.3)\n",
      "Requirement already satisfied: jinja2 in c:\\users\\kushagra\\appdata\\local\\programs\\python\\python312\\lib\\site-packages (from torch) (3.1.4)\n",
      "Requirement already satisfied: fsspec in c:\\users\\kushagra\\appdata\\local\\programs\\python\\python312\\lib\\site-packages (from torch) (2024.9.0)\n",
      "Requirement already satisfied: setuptools in c:\\users\\kushagra\\appdata\\local\\programs\\python\\python312\\lib\\site-packages (from torch) (70.0.0)\n",
      "Requirement already satisfied: numpy in c:\\users\\kushagra\\appdata\\local\\programs\\python\\python312\\lib\\site-packages (from torchvision) (1.26.4)\n",
      "Requirement already satisfied: pillow!=8.3.*,>=5.3.0 in c:\\users\\kushagra\\appdata\\local\\programs\\python\\python312\\lib\\site-packages (from torchvision) (10.2.0)\n",
      "Requirement already satisfied: MarkupSafe>=2.0 in c:\\users\\kushagra\\appdata\\local\\programs\\python\\python312\\lib\\site-packages (from jinja2->torch) (2.1.5)\n",
      "Requirement already satisfied: mpmath<1.4,>=1.1.0 in c:\\users\\kushagra\\appdata\\local\\programs\\python\\python312\\lib\\site-packages (from sympy->torch) (1.3.0)\n",
      "Note: you may need to restart the kernel to use updated packages.\n"
     ]
    }
   ],
   "source": [
    "%pip install torch torchvision"
   ]
  },
  {
   "cell_type": "code",
   "execution_count": 2,
   "metadata": {},
   "outputs": [
    {
     "name": "stdout",
     "output_type": "stream",
     "text": [
      "Dataset size: 60000\n",
      "First data point (image, label): (<PIL.Image.Image image mode=L size=28x28 at 0x1FA2FBE29C0>, 5)\n"
     ]
    }
   ],
   "source": [
    "import torch\n",
    "import torchvision\n",
    "from torchvision import datasets\n",
    "\n",
    "dataset = torchvision.datasets.MNIST(root='./data', download=True)\n",
    "\n",
    "print(f\"Dataset size: {len(dataset)}\")\n",
    "print(f\"First data point (image, label): {dataset[0]}\")"
   ]
  },
  {
   "cell_type": "code",
   "execution_count": 6,
   "metadata": {},
   "outputs": [
    {
     "name": "stdout",
     "output_type": "stream",
     "text": [
      "Epoch [1/5], Loss: 0.9833\n",
      "Epoch [2/5], Loss: 0.5198\n",
      "Epoch [3/5], Loss: 0.3251\n",
      "Epoch [4/5], Loss: 0.2704\n",
      "Epoch [5/5], Loss: 0.3437\n",
      "Accuracy of the Multi-Layer Perceptron model on the test images: 86.44%\n"
     ]
    },
    {
     "data": {
      "image/png": "[encoded data removed]",
      "text/plain": [
       "<Figure size 1500x600 with 12 Axes>"
      ]
     },
     "metadata": {},
     "output_type": "display_data"
    }
   ],
   "source": [
    "import torch\n",
    "import torchvision\n",
    "import matplotlib.pyplot as plt\n",
    "from torch.utils.data import DataLoader\n",
    "import torchvision.transforms as T\n",
    "import torch.nn as nn\n",
    "import torch.optim as optim\n",
    "\n",
    "#to customize data visualization\n",
    "data_transforms = T.Compose([\n",
    "    T.RandomRotation(degrees=30),\n",
    "    T.RandomHorizontalFlip(),\n",
    "    T.RandomResizedCrop(size=28, scale=(0.9, 1.0)),\n",
    "    T.ToTensor(),\n",
    "    T.Normalize(mean=(0.5,), std=(0.5,)),\n",
    "])\n",
    "\n",
    "#load\n",
    "mnist_dataset = torchvision.datasets.MNIST(root='./data', train=True, transform=data_transforms, download=True)\n",
    "mnist_dataloader = DataLoader(mnist_dataset, batch_size=60, shuffle=True)\n",
    "\n",
    "#defining the MLP model\n",
    "class MLP(nn.Module):\n",
    "    def __init__(self, input_size, hidden_size, num_classes):\n",
    "        super(MLP, self).__init__()\n",
    "        self.fc1 = nn.Linear(input_size, hidden_size)  #first hidden layer\n",
    "        self.fc2 = nn.Linear(hidden_size, num_classes)  #output layer\n",
    "        self.relu = nn.ReLU()  #activation function\n",
    "\n",
    "    def forward(self, x):\n",
    "        x = x.view(x.size(0), -1)  #flatten input\n",
    "        x = self.fc1(x)  #first layer\n",
    "        x = self.relu(x)  #activation\n",
    "        x = self.fc2(x)  #output layer\n",
    "        return x\n",
    "\n",
    "#set up training parameters\n",
    "input_size = 28 * 28  #images\n",
    "hidden_size = 128\n",
    "num_classes = 10\n",
    "num_epochs = 5\n",
    "learning_rate = 0.001\n",
    "\n",
    "#creating an instance of the model, define the loss function and optimizer\n",
    "model = MLP(input_size, hidden_size, num_classes)\n",
    "criterion = nn.CrossEntropyLoss()\n",
    "optimizer = optim.Adam(model.parameters(), lr=learning_rate)\n",
    "\n",
    "#train the model\n",
    "for epoch in range(num_epochs):\n",
    "    for images, labels in mnist_dataloader:\n",
    "        #forward pass\n",
    "        outputs = model(images)\n",
    "        loss = criterion(outputs, labels)\n",
    "\n",
    "        #backward pass and optimization\n",
    "        optimizer.zero_grad()  #clear gradients\n",
    "        loss.backward()  #backpropagation\n",
    "        optimizer.step()  #update weights\n",
    "    print(f'Epoch [{epoch+1}/{num_epochs}], Loss: {loss.item():.4f}')\n",
    "\n",
    "#evaluate the model\n",
    "test_dataset = torchvision.datasets.MNIST(root='./data', train=False, transform=T.ToTensor(), download=True)\n",
    "test_loader = DataLoader(test_dataset, batch_size=60, shuffle=False)\n",
    "\n",
    "model.eval()\n",
    "with torch.no_grad():\n",
    "    correct = 0\n",
    "    total = 0\n",
    "    for images, labels in test_loader:\n",
    "        outputs = model(images)\n",
    "        _, predicted = torch.max(outputs.data, 1)\n",
    "        total += labels.size(0)\n",
    "        correct += (predicted == labels).sum().item()\n",
    "\n",
    "print(f'Accuracy of the Multi-Layer Perceptron model on the test images: {100 * correct / total:.2f}%')\n",
    "\n",
    "#viz representation changes\n",
    "def plot_image_grid(images, labels, num_rows=2, num_cols=6):\n",
    "    fig, axes = plt.subplots(num_rows, num_cols, figsize=(15, 6))\n",
    "    axes = axes.flatten()\n",
    "    \n",
    "    for idx in range(num_rows*num_cols):\n",
    "        if idx < len(images):\n",
    "            axes[idx].imshow(images[idx].squeeze(), cmap='gray')\n",
    "            axes[idx].set_title(f'Label: {labels[idx]}')\n",
    "        axes[idx].axis('off')    \n",
    "    plt.tight_layout()\n",
    "    plt.show()\n",
    "\n",
    "#batch of images and labels\n",
    "data_iterator = iter(mnist_dataloader)\n",
    "batch_images, batch_labels = next(data_iterator)\n",
    "\n",
    "#visualize batch of images\n",
    "plot_image_grid(batch_images, batch_labels)\n"
   ]
  }
 ],
 "metadata": {
  "kernelspec": {
   "display_name": "Python 3",
   "language": "python",
   "name": "python3"
  },
  "language_info": {
   "codemirror_mode": {
    "name": "ipython",
    "version": 3
   },
   "file_extension": ".py",
   "mimetype": "text/x-python",
   "name": "python",
   "nbconvert_exporter": "python",
   "pygments_lexer": "ipython3",
   "version": "3.12.0"
  }
 },
 "nbformat": 4,
 "nbformat_minor": 2
}
